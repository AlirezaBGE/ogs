{
 "cells": [
  {
   "cell_type": "code",
   "execution_count": null,
   "source": [
    "\n",
    "notebook = \"PhaseField/surfing_jupyter_notebook/surfing_pyvista.ipynb\"\n",
    "author = \"Mostafa Mollaali, Keita Yoshioka\"\n",
    "date = \"2022-06-28\"\n",
    "title = \"Surfing boundary\"\n",
    "weight = 158\n",
    "[menu]\n",
    "  [menu.benchmarks]\n",
    "    parent = \"Phase-Field\"\n",
    "<!--eofm-->"
   ],
   "outputs": [],
   "metadata": {}
  },
  {
   "cell_type": "code",
   "execution_count": 9,
   "source": [
    "from ogs6py import ogs"
   ],
   "outputs": [],
   "metadata": {}
  },
  {
   "cell_type": "code",
   "execution_count": 10,
   "source": [
    "import os\n",
    "import ogs6py\n",
    "import numpy as np\n",
    "import matplotlib.pyplot as plt\n",
    "from matplotlib.pyplot import cm\n",
    "import time\n",
    "import re\n",
    "import vtuIO\n",
    "from IPython.display import Image\n",
    "import pyvista as pv\n",
    "from pyvista import examples\n",
    "from scipy.spatial import Delaunay"
   ],
   "outputs": [],
   "metadata": {}
  },
  {
   "cell_type": "code",
   "execution_count": 11,
   "source": [
    "## Install vtuIO\n",
    "#!/usr/local/opt/python@3.9/bin/python3.9 -m pip install  https://github.com/joergbuchwald/VTUinterface/archive/refs/heads/master.zip\n",
    "\n",
    "## Install PyVista\n",
    "#!/usr/local/opt/python@3.9/bin/python3.9 -m pip install pyvista\n",
    "\n",
    "## Install OGS6py\n",
    "# pip install [--user] https://github.com/joergbuchwald/ogs6py/archive/refs/heads/master.zip"
   ],
   "outputs": [],
   "metadata": {}
  },
  {
   "cell_type": "markdown",
   "source": [
    "## Problem description\n",
    "\n",
    "Consider a plate, $\\Omega=[0,2]\\times [-0.5,0.5]$, with an explicit edge crack, $\\Gamma=[0,0.5]\\times \\{0\\}$; that is subjected  to a time dependent crack opening displacement:\n",
    "\n",
    "\\begin{eqnarray}\n",
    "\t\\label{eq:surfing_bc}\n",
    "\t\\mathbf{u}(x,y,t)= \\mathbf{U}(x-\\text{v}t,y) \\quad \\text{on} \\quad \\partial\\Omega_D,\n",
    "\\end{eqnarray}\n",
    "where $\\text{v}$ is an imposed loading velocity; and $\\mathbf{U}$ is the asymptotic solution for the Mode-I crack opening displacement\n",
    "\\begin{eqnarray}\n",
    "\t\\label{eq:asymptotic}\n",
    "\tU_x= \\dfrac{K_I}{2\\mu} \\sqrt{\\dfrac{r}{2\\pi}} (\\kappa-\\cos \\varphi) \\cos \\frac{\\varphi}{2}, \\nonumber\n",
    "\t\\\\\n",
    "\tU_y= \\dfrac{K_I}{2\\mu} \\sqrt{\\dfrac{r}{2\\pi}} (\\kappa-\\cos \\varphi) \\sin \\frac{\\varphi}{2},\n",
    "\\end{eqnarray}\n",
    "\n",
    "\n",
    "where $K_I$ is the stress intensity factor, $\\kappa=(3-\\nu)/(1+\\nu)$ and $\\mu=E / 2  (1 + \\nu) $; $(r,\\varphi)$ are the polar coordinate system,  where the origin is crack tip.\n",
    "Also, we used $G_\\mathrm{c}=K_{Ic}^2(1-\\nu^2)/E$ as the fracture surface energy under plane strain condition.\n",
    "Table 1 lists the material properties and geometry of the numerical model.\n",
    "\n",
    "![Schematic view of surfing boundary condition benchmark](./figures/surfing_schematic.png#one-half \"Schematic view of surfing boundary condition benchmark.\")"
   ],
   "metadata": {}
  },
  {
   "cell_type": "markdown",
   "source": [
    "# Input Data"
   ],
   "metadata": {}
  },
  {
   "cell_type": "markdown",
   "source": [
    "\n",
    "<!-- <head>\n",
    "    <style type='text/css'>\n",
    "        table.test { border-collapse: collapse; }\n",
    "        table.test td { border-bottom: 1px solid black; }\n",
    "    </style>\n",
    "</head>\n",
    "<center>\n",
    "<body>\n",
    "        <table class='test'>\n",
    "        <caption> Table 1: Surfing boundary example: Material properties  and geometrical  parameters.</caption>\n",
    "        <tr style=\"border-bottom:2px solid black\">\n",
    "          <td colspan=\"100%\"></td>\n",
    "        </tr>\n",
    "        <tr>\n",
    "            <td >Name</td>\n",
    "            <td>Symbol</td>\n",
    "            <td style=\"width:40%\">Value      </td>\n",
    "            <td>Unit</td>\n",
    "        </tr>\n",
    "        <tr style=\"border-bottom:2px solid black\">\n",
    "          <td colspan=\"100%\"></td>\n",
    "        </tr>\n",
    "        <tr>\n",
    "            <td>Young's modulus</td>\n",
    "            <td>$E$</td>\n",
    "            <td>210 $\\times 10^3$</td>\n",
    "            <td>MPa</td>\n",
    "        </tr>\n",
    "        <tr>\n",
    "            <td>Critical energy release rate </td>\n",
    "            <td>$G_{c}$</td>\n",
    "            <td>2.7</td>\n",
    "            <td>MPa$\\cdot$mm</td>\n",
    "        </tr>\n",
    "        <tr>\n",
    "            <td>Poisson's ratio</td>\n",
    "            <td>$\\nu$</td>\n",
    "            <td>0.3</td>\n",
    "            <td>$-$</td>\n",
    "        </tr>\n",
    "        <tr>\n",
    "            <td>Effective element size</td>\n",
    "            <td>$h$</td>\n",
    "            <td>$5 \\times 10^{-3}$</td>\n",
    "            <td>mm</td>\n",
    "        </tr>\n",
    "        <tr>\n",
    "            <td>Regularization parameter</td>\n",
    "            <td>$\\ell_s$</td>\n",
    "            <td>$1\\times10^{-2}$</td>\n",
    "            <td>mm</td>\n",
    "        </tr>\n",
    "        <tr>\n",
    "            <td>Imposed loading velocity</td>\n",
    "            <td>$\\text{v}$</td>\n",
    "            <td>1.5</td>\n",
    "            <td>mm/s</td>\n",
    "        </tr>\n",
    "        <tr>\n",
    "            <td>Length</td>\n",
    "            <td>$L$</td>\n",
    "            <td>$2$</td>\n",
    "            <td>mm</td>\n",
    "        </tr>\n",
    "        <tr>\n",
    "            <td>Height</td>\n",
    "            <td>$H$</td>\n",
    "            <td>$1$</td>\n",
    "            <td>mm</td>\n",
    "        </tr>\n",
    "        <tr>\n",
    "            <td>Initial crack length</td>\n",
    "            <td>$a_0$</td>\n",
    "            <td>$0.5$</td>\n",
    "            <td>mm</td>\n",
    "        </tr>\n",
    "        <tr style=\"border-bottom:2px solid black\">\n",
    "          <td colspan=\"100%\"></td>\n",
    "        </tr>\n",
    "    </table>\n",
    "</body>\n",
    "</center> -->\n",
    "\n",
    "| **Name**                       | **Value**          | **Unit**     | **Symbol** |\n",
    "|--------------------------------|--------------------|--------------|------------|\n",
    "| _Young's modulus_              | 210x$10^3$  | MPa          | $E$        |\n",
    "| _Critical energy release rate_ | 2.7                | MPa$\\cdot$mm | $G_{c}$    |\n",
    "| _Poisson's ratio_              | 0.3                | $-$          | $\\nu$      |\n",
    "| _Regularization parameter_     | 2$h$   | mm           | $\\ell_s$   |\n",
    "| _Imposed loading velocity_     | 1.5                | mm/s         | $\\text{v}$ |\n",
    "| _Length_                       | $2$                | mm           | $L$        |\n",
    "| _Height_                       | $1$                | mm           | $H$        |\n",
    "| _Initial crack length_         | $0.5$              | mm           | $a_0$      |"
   ],
   "metadata": {}
  },
  {
   "cell_type": "code",
   "execution_count": 18,
   "source": [
    "x_tip_Initial=0.5\n",
    "y_tip_Initial=0.5\n",
    "Height  =1.\n",
    "\n",
    "Orientation=0\n",
    "h = 0.05\n",
    "G_i = 2.7\n",
    "ls = 2*h\n",
    "# We set ls=2h in our simulation\n",
    "phasefield_model='AT1'# AT1 and AT2 "
   ],
   "outputs": [],
   "metadata": {}
  },
  {
   "cell_type": "markdown",
   "source": [
    "## Paths and project file name"
   ],
   "metadata": {}
  },
  {
   "cell_type": "code",
   "execution_count": 19,
   "source": [
    "#OGS\n",
    "# To run this example, OGS must be compiled with PETSc and Python.\n",
    "# CC=mpicc CXX=mpic++ cmake ../ogs/ -G Ninja -DCMAKE_BUILD_TYPE=Release -DOGS_USE_PETSC=ON -DOGS_USE_PYTHON=ON\n",
    "\n",
    "# file's name\n",
    "prj_path='./'\n",
    "prj_name = \"surfing.prj\""
   ],
   "outputs": [],
   "metadata": {}
  },
  {
   "cell_type": "markdown",
   "source": [
    "# Mesh generation"
   ],
   "metadata": {}
  },
  {
   "cell_type": "code",
   "execution_count": 20,
   "source": [
    "# https://www.opengeosys.org/docs/tools/meshing/structured-mesh-generation/\n",
    "!{\"generateStructuredMesh\"} -o surfing_quad_1x2.vtu -e quad --lx 2 --nx {round(2/h)+1} --ly 1 --ny {round(1/h)+1}\n",
    "!{\"NodeReordering\"} -i surfing_quad_1x2.vtu -o surfing_quad_1x2_NR.vtu"
   ],
   "outputs": [
    {
     "output_type": "stream",
     "name": "stdout",
     "text": [
      "[2022-06-27 23:39:17.888] [ogs] [\u001b[32minfo\u001b[m] Mesh created: 924 nodes, 861 elements.\n",
      "[2022-06-27 23:39:18.096] [ogs] [\u001b[32minfo\u001b[m] Reordering nodes... \n",
      "[2022-06-27 23:39:18.097] [ogs] [\u001b[32minfo\u001b[m] Corrected 0 elements.\n",
      "[2022-06-27 23:39:18.100] [ogs] [\u001b[32minfo\u001b[m] VTU file written.\n"
     ]
    }
   ],
   "metadata": {}
  },
  {
   "cell_type": "markdown",
   "source": [
    "# Pre-processing \n",
    "At fracture, we set the initial phase field to zero."
   ],
   "metadata": {}
  },
  {
   "cell_type": "code",
   "execution_count": 21,
   "source": [
    "mesh = pv.read(\"./surfing_quad_1x2_NR.vtu\")\n",
    "phase_field = np.ones((len(mesh.points),1))\n",
    "pv.set_plot_theme(\"document\")\n",
    "\n",
    "\n",
    "for node_id, x in enumerate(mesh.points):\n",
    "    if x[0]< x_tip_Initial+h/10  and x[1] < Height/2+h and x[1] > Height/2-h:\n",
    "        phase_field[node_id] = 0.0\n",
    "        \n",
    "mesh.point_data['pf-ic'] = phase_field\n",
    "mesh.save('surfing_quad_1x2_NR_pf_ic.vtu')\n",
    "mesh\n",
    "# cpos = mesh.plot()\n",
    "\n",
    "pf_ic = mesh.point_data[\"pf-ic\"]\n",
    "sargs=dict(title='pf-ic', title_font_size=20, label_font_size=15, n_labels=5,\n",
    "               position_x=0.3, position_y=0.2, fmt=\"%.1f\", width=.5)\n",
    "clim=[0, 1.]\n",
    "\n",
    "p = pv.Plotter(shape=(1, 1), border=False)\n",
    "p.add_mesh(mesh, scalars = pf_ic,\n",
    "               show_edges=True, show_scalar_bar=True,\n",
    "               colormap=\"coolwarm\", clim=clim,\n",
    "               scalar_bar_args=sargs)\n",
    "\n",
    "p.view_xy()\n",
    "p.window_size = [800,800]\n",
    "p.show()"
   ],
   "outputs": [
    {
     "output_type": "display_data",
     "data": {
      "application/vnd.jupyter.widget-view+json": {
       "model_id": "40fa5152ac104233a0463edc23757351",
       "version_major": 2,
       "version_minor": 0
      },
      "text/plain": [
       "ViewInteractiveWidget(height=800, layout=Layout(height='auto', width='100%'), width=800)"
      ]
     },
     "metadata": {}
    }
   ],
   "metadata": {}
  },
  {
   "cell_type": "markdown",
   "source": [
    "# Run the simulation "
   ],
   "metadata": {}
  },
  {
   "cell_type": "code",
   "execution_count": 22,
   "source": [
    "#https://github.com/joergbuchwald/ogs6py\n",
    "#Change the length scale and phasefield model in project file\n",
    "model = ogs.OGS(INPUT_FILE=prj_path+prj_name, PROJECT_FILE=prj_path+prj_name, MKL=True)\n",
    "model.replace_parameter(name=\"ls\", value=2*h)\n",
    "model.replace_text(phasefield_model, xpath=\"./processes/process/phasefield_model\")\n",
    "model.write_input()"
   ],
   "outputs": [
    {
     "output_type": "execute_result",
     "data": {
      "text/plain": [
       "True"
      ]
     },
     "metadata": {},
     "execution_count": 22
    }
   ],
   "metadata": {}
  },
  {
   "cell_type": "code",
   "execution_count": 24,
   "source": [
    "isExist = os.path.exists(\"./results\")\n",
    "if not isExist: \n",
    "      os.makedirs(\"./results\")\n",
    "\n",
    "\n",
    "t0 = time.time()\n",
    "print(\">>> OGS started execution ... <<<\")\n",
    "!{\"ogs\"} {prj_path+prj_name} -o results > log\n",
    "\n",
    "tf = time.time()\n",
    "print(\">>> OGS terminated execution  <<< Elapsed time: \", round(tf - t0, 2), \" s.\")"
   ],
   "outputs": [
    {
     "output_type": "stream",
     "name": "stdout",
     "text": [
      ">>> OGS started execution ... <<<\n",
      ">>> OGS terminated execution  <<< Elapsed time:  22.7  s.\n"
     ]
    }
   ],
   "metadata": {}
  },
  {
   "cell_type": "markdown",
   "source": [
    "# Results"
   ],
   "metadata": {}
  },
  {
   "cell_type": "markdown",
   "source": [
    "We computed the energy release rate using $G_{\\theta}$ method (Destuynder _et al._, 1983; Li _et al._, 2016)  and plot the errors against the theoretical numerical toughness i.e. $(G_c^{\\text{eff}})_{\\texttt{num}}=G_c(1+\\frac{h}{2\\ell})$ for $\\texttt{AT}_2$,\n",
    "and $(G_c^{\\text{eff}})_{\\texttt{num}}=G_c(1+\\frac{3h}{8\\ell})$ for $\\texttt{AT}_1$ (Bourdin _et al._, 2008).\n",
    "\n",
    "![Alt text](./figures/surfing_gtheta_schematic.png#one-half \"Phase field and $\\theta$ profile  for the volumetric deviatoric $\\texttt{AT}_2$ models.  We use virtual perturbation of $\\theta$ to compute energy release rate using $G_{\\theta}$ Dubois et al., 1998. The  $\\theta$ value is 1 inside of $B_{r_{in}}(P)$,  0 outside, and a linear interpolation in between. We set $r_{in}=4\\ell$ and $r_{out}=2.5r_{in}$ (see Li et al., 2016).\")"
   ],
   "metadata": {}
  },
  {
   "cell_type": "code",
   "execution_count": 25,
   "source": [
    "R_inn=4*ls\n",
    "R_out=2.5*R_inn\n",
    "\n",
    "if phasefield_model=='AT1':\n",
    "    G_eff=G_i*(1+3*h/(8*ls))\n",
    "elif phasefield_model=='AT2':\n",
    "    G_eff= G_i*(1+h/(2*ls))"
   ],
   "outputs": [],
   "metadata": {}
  },
  {
   "cell_type": "markdown",
   "source": [
    "We run the simulation with a coarse mesh here to reduce computing time; however, a finer mesh would give a more accurate results. The energy release rate and its error for Models $\\texttt{AT}_1$ and $\\texttt{AT}_2$ with a mesh size of $h=0.005$ are shown below."
   ],
   "metadata": {}
  },
  {
   "cell_type": "markdown",
   "source": [
    "![Alt text](./figures/surfing_gtheta_ref.png#one-half)\n",
    "![Alt text](./figures/surfing_gtheta_error_ref.png#one-half)"
   ],
   "metadata": {}
  },
  {
   "cell_type": "markdown",
   "source": [
    "# Post-processing"
   ],
   "metadata": {}
  },
  {
   "cell_type": "code",
   "execution_count": 26,
   "source": [
    "reader = pv.get_reader(\"./results/surfing.pvd\")\n",
    "plotter = pv.Plotter(notebook=False, off_screen=False)\n",
    "G_theta_time = np.zeros((len(reader.time_values),2))\n",
    "\n",
    "\n",
    "for t, time_value in enumerate(reader.time_values):\n",
    "    reader.set_active_time_value(time_value)\n",
    "\n",
    "    mesh = reader.read()[0] \n",
    "    points = mesh.point_data[\"phasefield\"].shape[0]\n",
    "    xs = mesh.points[:,0]\n",
    "    ys = mesh.points[:,1]\n",
    "    pf = mesh.point_data[\"phasefield\"]\n",
    "    sigma = mesh.point_data[\"sigma\"]\n",
    "    disp = mesh.point_data[\"displacement\"]\n",
    "\n",
    "    num_points = disp.shape\n",
    "    theta = np.zeros(num_points) \n",
    "    \n",
    "    #--------------------------------------------------------------------------------\n",
    "    # find fracture tip\n",
    "    #-------------------------------------------------------------------------------- \n",
    "    min_pf=min(pf[:])\n",
    "    coord_pf_0p5=mesh.points[pf<0.5]\n",
    "    if   min_pf <= 0.5:\n",
    "                coord_pf_0p5[np.argmax(coord_pf_0p5, axis=0)[0]][1]\n",
    "                x0=coord_pf_0p5[np.argmax(coord_pf_0p5, axis=0)[0]][0]\n",
    "                y0=coord_pf_0p5[np.argmax(coord_pf_0p5, axis=0)[0]][1]\n",
    "    else:\n",
    "                x0=x_tip_Initial \n",
    "                y0=y_tip_Initial\n",
    "    Crack_position = [x0,y0]    \n",
    "    #--------------------------------------------------------------------------------\n",
    "    #define \\theta\n",
    "    #--------------------------------------------------------------------------------\n",
    "    for i, x in enumerate(mesh.points):\n",
    "        # distance from the crack tip\n",
    "        R = np.sqrt((x[0] - Crack_position[0])**2 + (x[1] - Crack_position[1])**2)\n",
    "        if R < R_inn:\n",
    "            theta_funct = 1.0\n",
    "        elif R > R_out:\n",
    "            theta_funct = 0.0\n",
    "        else:\n",
    "            theta_funct = (R-R_out)/(R_inn-R_out)\n",
    "        theta[i][0] = theta_funct * np.cos(Orientation)\n",
    "        theta[i][1] = theta_funct * np.sin(Orientation)\n",
    "\n",
    "    mesh.point_data['theta'] = theta\n",
    "\n",
    "    #--------------------------------------------------------------------------------\n",
    "    #define grad \\theta\n",
    "    #--------------------------------------------------------------------------------\n",
    "    mesh_theta = mesh.compute_derivative(scalars=\"theta\")\n",
    "    mesh_theta[\"gradient\"]\n",
    "    def gradients_to_dict(arr):\n",
    "        \"\"\"A helper method to label the gradients into a dictionary.\"\"\"\n",
    "        keys = np.array([\"thetax_x\", \"thetax_y\", \"thetax_z\", \"thetay_x\", \"thetay_y\", \"thetay_z\"])\n",
    "        keys = keys.reshape((2, 3))[:, : arr.shape[1]].ravel()\n",
    "        return dict(zip(keys, mesh_theta[\"gradient\"].T))\n",
    "\n",
    "\n",
    "    gradients_theta = gradients_to_dict(mesh_theta[\"gradient\"])\n",
    "    mesh.point_data.update(gradients_theta)\n",
    "    #--------------------------------------------------------------------------------\n",
    "    #define grad u\n",
    "    #--------------------------------------------------------------------------------\n",
    "    mesh_u = mesh.compute_derivative(scalars=\"displacement\")\n",
    "    mesh_u[\"gradient\"]\n",
    "    def gradients_to_dict(arr):\n",
    "        \"\"\"A helper method to label the gradients into a dictionary.\"\"\"\n",
    "        keys = np.array(\n",
    "            [\"Ux_x\", \"Ux_y\", \"Ux_z\", \"Uy_x\", \"Uy_y\", \"Uy_z\"])\n",
    "        keys = keys.reshape((2, 3))[:, : arr.shape[1]].ravel()\n",
    "        return dict(zip(keys, mesh_u[\"gradient\"].T))\n",
    "\n",
    "    # a=np.array([1,2,3,4,5,6])\n",
    "    # np.reshape(a.ravel(), (2, 3))\n",
    "    gradients_u = gradients_to_dict(mesh_u[\"gradient\"])\n",
    "    # gradients\n",
    "    mesh.point_data.update(gradients_u)\n",
    "\n",
    "    #--------------------------------------------------------------------------------\n",
    "    #define G_theta\n",
    "    #--------------------------------------------------------------------------------\n",
    "    G_theta_i = np.zeros(num_points[0])\n",
    "    sigma = mesh.point_data[\"sigma\"]\n",
    "    Ux_x = mesh.point_data[\"Ux_x\"]\n",
    "    Ux_y = mesh.point_data[\"Ux_y\"]\n",
    "    Uy_x = mesh.point_data[\"Uy_x\"]\n",
    "    Uy_y = mesh.point_data[\"Uy_y\"]\n",
    "\n",
    "    thetax_x = mesh.point_data[\"thetax_x\"]\n",
    "    thetax_y = mesh.point_data[\"thetax_y\"]\n",
    "    thetay_x = mesh.point_data[\"thetay_x\"]\n",
    "    thetay_y = mesh.point_data[\"thetay_y\"]\n",
    "\n",
    "    for i, x in enumerate(mesh.points):\n",
    "        #---------------------------------------------------------------------------\n",
    "        sigma_xx = sigma[i][0]\n",
    "        sigma_yy = sigma[i][1]\n",
    "        sigma_xy = sigma[i][3]\n",
    "\n",
    "\n",
    "        Ux_x_i = Ux_x[i]\n",
    "        Ux_y_i = Ux_y[i]\n",
    "        Uy_x_i = Uy_x[i]\n",
    "        Uy_y_i = Uy_y[i]\n",
    "\n",
    "        thetax_x_i = thetax_x[i]\n",
    "        thetax_y_i = thetax_y[i]\n",
    "        thetay_x_i = thetay_x[i]\n",
    "        thetay_y_i = thetay_y[i]\n",
    "        #---------------------------------------------------------------------------\n",
    "        dUdTheta_11 = Ux_x_i*thetax_x_i + Ux_y_i*thetay_x_i\n",
    "        dUdTheta_12 = Ux_x_i*thetax_y_i + Ux_y_i*thetay_y_i\n",
    "        dUdTheta_21 = Uy_x_i*thetax_x_i + Uy_y_i*thetay_x_i\n",
    "        dUdTheta_22 = Uy_x_i*thetax_y_i + Uy_y_i*thetay_y_i\n",
    "        trace_sigma_grad_u_grad_theta = sigma_xx*dUdTheta_11 + sigma_xy*(dUdTheta_12 + dUdTheta_21) + sigma_yy*dUdTheta_22\n",
    "        trace_sigma_grad_u = sigma_xx*Ux_x_i + sigma_xy*(Uy_x_i + Ux_y_i) + sigma_yy*Uy_y_i\n",
    "        div_theta_i = thetax_x_i + thetay_y_i\n",
    "        G_theta_i[i] = trace_sigma_grad_u_grad_theta - 0.5*trace_sigma_grad_u*div_theta_i\n",
    "    mesh.point_data['G_theta_node'] = G_theta_i \n",
    "    #--------------------------------------------------------------------------------\n",
    "    #Integral G_theta\n",
    "    #--------------------------------------------------------------------------------    \n",
    "    X = mesh.points[:,0]\n",
    "    Y = mesh.points[:,1]\n",
    "    G_theta_i = mesh.point_data[\"G_theta_node\"]\n",
    "\n",
    "    domain_points = np.array(list(zip(X,Y)))\n",
    "    tri = Delaunay(domain_points)\n",
    "\n",
    "    def area_from_3_points(x, y, z):\n",
    "        return np.sqrt(np.sum(np.cross(x-y, x-z), axis=-1)**2)/2\n",
    "    \n",
    "    G_theta = 0\n",
    "    for vertices in tri.simplices:\n",
    "        mean_value = (G_theta_i[vertices[0]] + G_theta_i[vertices[1]] + G_theta_i[vertices[2]]) / 3\n",
    "        area = area_from_3_points(domain_points[vertices[0]], domain_points[vertices[1]], domain_points[vertices[2]])\n",
    "        G_theta += mean_value*area\n",
    "    G_theta_time[t][1]= G_theta\n",
    "    G_theta_time[t][0]= time_value\n",
    "mesh.save('surfing_Post_Processing.vtu')  "
   ],
   "outputs": [],
   "metadata": {}
  },
  {
   "cell_type": "markdown",
   "source": [
    "## Plots"
   ],
   "metadata": {}
  },
  {
   "cell_type": "code",
   "execution_count": 27,
   "source": [
    "plt.xlabel('$t$',fontsize =14)\n",
    "plt.ylabel(r'$\\frac{|{G}_\\mathrm{\\theta}-({G}_\\mathrm{c}^{\\mathrm{eff}})_\\mathrm{num}|}{({G}_\\mathrm{c}^{\\mathrm{eff}})_\\mathrm{num}}\\times 100\\%$',fontsize=14)         \n",
    "plt.plot(G_theta_time[:,0], abs(G_theta_time[:,1])/G_eff, '-ob',fillstyle='none' ,linewidth=1.5,label='Phase-field %s'%phasefield_model)\n",
    "plt.plot(G_theta_time[:,0], np.append(0, np.ones(len(G_theta_time[:,0])-1)), '-k',fillstyle='none' ,linewidth=1.5,label='Closed form')               \n",
    "plt.grid(linestyle='dashed') \n",
    "plt.xlim(-0.05,0.8)\n",
    "legend = plt.legend(loc='lower right')\n",
    "plt.savefig('./figures/G_theta_GcEff.png')\n",
    "plt.show()\n",
    "\n",
    "\n",
    "\n",
    "\n",
    "plt.xlabel('$t$',fontsize =14)\n",
    "plt.ylabel(r'$\\frac{|{G}_\\mathrm{\\theta}-({G}_\\mathrm{c}^{\\mathrm{eff}})_\\mathrm{num}|}{({G}_\\mathrm{c}^{\\mathrm{eff}})_\\mathrm{num}}\\times 100\\%$',fontsize=14)         \n",
    "plt.plot(G_theta_time[:,0], abs(G_theta_time[:,1]-G_eff)/G_eff*100, '-ob',fillstyle='none' ,linewidth=1.5,label='Phase-field %s'%phasefield_model )\n",
    "plt.grid(linestyle='dashed') \n",
    "plt.xlim(-0.05,0.8)\n",
    "# plt.ylim(0,4)\n",
    "legend = plt.legend(loc='upper right')\n",
    "plt.savefig('./figures/G_theta_GcEff_error.png')\n",
    "plt.show()"
   ],
   "outputs": [
    {
     "output_type": "display_data",
     "data": {
      "image/png": "[encoded data removed]",
      "text/plain": [
       "<Figure size 640x480 with 1 Axes>"
      ]
     },
     "metadata": {}
    },
    {
     "output_type": "display_data",
     "data": {
      "image/png": "[encoded data removed]",
      "text/plain": [
       "<Figure size 640x480 with 1 Axes>"
      ]
     },
     "metadata": {}
    }
   ],
   "metadata": {}
  },
  {
   "cell_type": "markdown",
   "source": [
    "Hint: Accurate results can be obtained by using the mesh size below 0.02."
   ],
   "metadata": {}
  },
  {
   "cell_type": "markdown",
   "source": [
    "## Phase field profile "
   ],
   "metadata": {}
  },
  {
   "cell_type": "markdown",
   "source": [
    "### Fracture propagation animation"
   ],
   "metadata": {}
  },
  {
   "cell_type": "code",
   "execution_count": 29,
   "source": [
    "reader = pv.get_reader(\"./results/surfing.pvd\")\n",
    "plotter = pv.Plotter(notebook=False, off_screen=False)\n",
    "# Open a gif\n",
    "plotter.open_gif(\"figures/surfing.gif\")\n",
    "pv.set_plot_theme(\"document\")\n",
    "for time_value in reader.time_values:\n",
    "    reader.set_active_time_value(time_value)\n",
    "    mesh = reader.read()[0]  # This dataset only has 1 block\n",
    "    \n",
    "    sargs=dict(title='Phase field', title_font_size=20, label_font_size=15, n_labels=5,\n",
    "               position_x=0.3, position_y=0.2, fmt=\"%.1f\", width=.5)\n",
    "    clim=[0, 1.]\n",
    "    points = mesh.point_data[\"phasefield\"].shape[0]\n",
    "    xs = mesh.points[:,0]\n",
    "    ys = mesh.points[:,1]\n",
    "    pf = mesh.point_data[\"phasefield\"]\n",
    "    plotter.add_mesh(mesh, scalars=pf, show_scalar_bar=False, colormap=\"coolwarm\", clim=clim,\n",
    "               scalar_bar_args=sargs, lighting=False)\n",
    "    plotter.add_text(f\"Time: {time_value:.0f}\", color=\"black\")\n",
    "    plotter.store_image = True\n",
    "\n",
    "    plotter.view_xy()\n",
    "    # Write a frame. This triggers a render.\n",
    "    plotter.write_frame()\n",
    "# Closes and finalizes movie\n",
    "plotter.close()"
   ],
   "outputs": [],
   "metadata": {}
  },
  {
   "cell_type": "markdown",
   "source": [
    "### Phase field profile at last time step"
   ],
   "metadata": {}
  },
  {
   "cell_type": "code",
   "execution_count": 30,
   "source": [
    "mesh = reader.read()[0]\n",
    "points = mesh.point_data[\"phasefield\"].shape[0]\n",
    "xs = mesh.points[:, 0]\n",
    "ys = mesh.points[:, 1]\n",
    "pf = mesh.point_data[\"phasefield\"]\n",
    "\n",
    "pv.set_plot_theme(\"document\")\n",
    "sargs = dict(\n",
    "    title=\"Phase field\",\n",
    "    title_font_size=20,\n",
    "    label_font_size=15,\n",
    "    n_labels=5,\n",
    "    position_x=0.3,\n",
    "    position_y=0.2,\n",
    "    fmt=\"%.1f\",\n",
    "    width=0.5,\n",
    ")\n",
    "clim = [0, 1.0]\n",
    "\n",
    "p = pv.Plotter(shape=(1, 1), border=False)\n",
    "p.add_mesh(\n",
    "    mesh,\n",
    "    scalars=pf,\n",
    "    show_edges=False,\n",
    "    show_scalar_bar=True,\n",
    "    colormap=\"coolwarm\",\n",
    "    clim=clim,\n",
    "    scalar_bar_args=sargs,\n",
    ")\n",
    "\n",
    "p.view_xy()\n",
    "p.window_size = [800, 800]\n",
    "p.show()\n"
   ],
   "outputs": [
    {
     "output_type": "display_data",
     "data": {
      "application/vnd.jupyter.widget-view+json": {
       "model_id": "2f30602bb07b4189ac6bdcd93b5269bf",
       "version_major": 2,
       "version_minor": 0
      },
      "text/plain": [
       "ViewInteractiveWidget(height=800, layout=Layout(height='auto', width='100%'), width=800)"
      ]
     },
     "metadata": {}
    }
   ],
   "metadata": {}
  },
  {
   "cell_type": "markdown",
   "source": [
    "## References\n",
    "\n",
    "[1] B. Bourdin,  G.A. Francfort,  and J.-J. Marigo, _The  variational  approach  to  fracture_,  Journal of Elasticity **91** (2008), no. 1-3, 5–148.\n",
    "\n",
    "[2]  Li, Tianyi, Jean-Jacques Marigo, Daniel Guilbaud, and Serguei Potapov. _Numerical investigation of dynamic brittle fracture via gradient damage models._ Advanced Modeling and Simulation in Engineering Sciences **3**, no. 1 (2016): 1-24.\n",
    "\n",
    "[3]  Dubois, Frédéric and Chazal, Claude and\n",
    "Petit, Christophe, _A  Finite  Element  Analysis  of  Creep-Crack  Growth  in Viscoelastic Media_, Mechanics Time-Dependent Materials **2** (1998), no. 3, 269–286"
   ],
   "metadata": {}
  }
 ],
 "metadata": {
  "kernelspec": {
   "display_name": "Python 3",
   "language": "python",
   "name": "python3"
  },
  "language_info": {
   "codemirror_mode": {
    "name": "ipython",
    "version": 3
   },
   "file_extension": ".py",
   "mimetype": "text/x-python",
   "name": "python",
   "nbconvert_exporter": "python",
   "pygments_lexer": "ipython3",
   "version": "3.9.13"
  }
 },
 "nbformat": 4,
 "nbformat_minor": 2
}