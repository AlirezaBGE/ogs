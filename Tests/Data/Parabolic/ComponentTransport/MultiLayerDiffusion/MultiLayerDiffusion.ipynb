{
 "cells": [
  {
   "cell_type": "raw",
   "id": "e758cbb0",
   "metadata": {},
   "source": [
    "title = \"Two-layer diffusion problem\"\n",
    "date = \"2022-03-09\"\n",
    "author = \"Renchao Lu, Dmitri Naumov, Lars Bilke, Christoph Lehmann, Haibing Shao\"\n",
    "notebook = \"DiffusionSorptionDecay.ipynb\"\n",
    "[menu]\n",
    "  [menu.benchmarks]\n",
    "    parent = \"Hydro-Component\"\n",
    "<!--eofm-->"
   ]
  },
  {
   "cell_type": "code",
   "execution_count": null,
   "id": "6a13a295",
   "metadata": {},
   "outputs": [],
   "source": [
    "import os\n",
    "import ogs6py\n",
    "import vtuIO\n",
    "import pandas as pd\n",
    "import numpy as np\n",
    "from scipy import special\n",
    "import matplotlib.pyplot as plt\n",
    "from matplotlib.pyplot import cm\n",
    "from IPython.display import Image"
   ]
  },
  {
   "cell_type": "markdown",
   "id": "b0542177",
   "metadata": {},
   "source": [
    "# 1. Two-layer diffusion problem"
   ]
  },
  {
   "cell_type": "markdown",
   "id": "9b3a2022",
   "metadata": {},
   "source": [
    "## 1.1 Problem description"
   ]
  },
  {
   "cell_type": "markdown",
   "id": "882866e7",
   "metadata": {},
   "source": [
    "In waste repositories, radionuclide release can be expected after rupture of waste canisters to occur in the engineered barrier system, which contains multiple layers of materials and host rocks. In this benchamrk, a tracer (HTO) diffusion process through a two-layer barrier is simulated. The barrier is comprised of a bentonite buffer layer and an opalinus clay (OPA) layer. \n",
    "\n",
    "Over the one-dimensional model domain, the diffusion process of HTO can be described with the following governing equation:\n",
    "\n",
    "$$\n",
    "\\frac{\\partial \\left( \\phi c\\right)}{\\partial t} = \\frac{\\partial}{\\partial x} \\left( \\phi \\mathrm{D_p} \\frac{\\partial c}{\\partial x} \\right),\n",
    "$$\n",
    "\n",
    "where $c$ [mol/m$^3$] represents the HTO concentration. $\\mathrm{D_p}$ [m$^2$/s] is the pore diffusion coefficient for HTO, and $\\phi$ [-] is the porosity of the media."
   ]
  },
  {
   "cell_type": "markdown",
   "id": "150c2e7a",
   "metadata": {},
   "source": [
    "## 1.2 Model setups"
   ]
  },
  {
   "cell_type": "markdown",
   "id": "2e6032e3",
   "metadata": {},
   "source": [
    "The computational domain is assumed to be 20 meters long. It consists of a 0.625 meter thick layer of bentonite buffer, and the rest is filled with OPA. The simulation time is one million years. Initially, the entire domain is assumed to be solute free, i.e. $c_{\\mathrm{ini}}(x, 0) = 0$. The inlet concentration is held at 1 mol/L throughout the simulation, i.e. $c(0, t) = 1$ mol/L. In the numerical model, the spatial domain is discretized by linear line elements with a length of 0.005 meter each. The time step size of 1000 years is used in the simulation. The discretized governing equation is iteratively solved using the Newton-Raphson method.\n",
    "\n",
    "The table below summarizes the parameters used in the simulation.\n",
    "\n",
    "| Parameter | Value | Unit |\n",
    "| :-: | :-: | :-: |\n",
    "| Porosity of bentonite $\\phi_{\\mathrm{b}}$ | 0.36 | - |\n",
    "| Porosity of OPA $\\phi_{\\mathrm{OPA}}$ | 0.12 | - |\n",
    "| Pore diffusion coefficient in bentonite $\\mathrm{D_{p,b}}$ | 5.55e-10 | m$^2$/s |\n",
    "| Pore diffusion coefficient in OPA $\\mathrm{D_{p,OPA}}$ | 8.33e-11 | m$^2$/s |\n",
    "| Time step size $\\Delta t$ | 1e3 | year |\n",
    "| Grid size $\\Delta x$ | 0.01 | m|\n",
    "\n",
    "Notes: The parameter values are sourced from Nagra (2002)."
   ]
  },
  {
   "cell_type": "markdown",
   "id": "37dd289f",
   "metadata": {},
   "source": [
    "## 1.3 Results"
   ]
  },
  {
   "cell_type": "markdown",
   "id": "c13e1768",
   "metadata": {},
   "source": [
    "**Analytical solution**\n",
    "\n",
    "For a two-layer diffusion problem, it is difficult to obtain the exact analytical solution. Instead, Carr and Turner (2016) presented a semi-analytical solution for this type of problem and released the corresponding <a href=\"https://github.com/elliotcarr/MultDiff\">MATLAB script</a> for public usage.\n",
    "\n",
    "Here we provide a <a href=\"https://gitlab.opengeosys.org/ogs/ogs/-/blob/master/Tests/Data/Parabolic/ComponentTransport/MultiLayerDiffusion/AnalyticalSolutionInput.m\">MATLAB script</a> through which we can compute the concentration profiles along the two-layer domain. The following figure illustrates the concentration profiles at $t$ = 10$^3$, 10$^4$, 10$^5$, and 10$^6$ years (see calculated values in <a href=\"https://gitlab.opengeosys.org/ogs/ogs/-/blob/master/Tests/Data/Parabolic/ComponentTransport/MultiLayerDiffusion/SemiAnalyticalSolutionResults.csv\">SemiAnalyticalSolutionResults.csv</a>).\n",
    "\n"
   ]
  },
  {
   "cell_type": "code",
   "execution_count": null,
   "id": "8829d272",
   "metadata": {},
   "outputs": [],
   "source": [
    "#plot semi-analytical solution\n",
    "#Time [year]\n",
    "time = np.array([1e3, 1e4, 1e5, 1e6])\n",
    "\n",
    "data_dir = os.environ.get('OGS_DATA_DIR', '../../../Data')\n",
    "result_file = f\"{data_dir}/Parabolic/ComponentTransport/MultiLayerDiffusion/SemiAnalyticalSolutionResults.csv\"\n",
    "soln = pd.read_csv(result_file, sep=',', header=None, skiprows=0, \n",
    "                       names=['x','1e3','1e4','1e5','1e6'], index_col=False)\n",
    "    \n",
    "def plot_analytical_solutions():\n",
    "    fig, ax = plt.subplots()\n",
    "    \n",
    "    ax.set_xlim((0,20))\n",
    "    ax.set_ylim((0,1))\n",
    "    \n",
    "    plt.xlabel('Distance [m]')\n",
    "    plt.ylabel('HTO concentration [mol/L]')\n",
    "    \n",
    "    color_map=iter(cm.rainbow(np.linspace(0,1,len(time))))\n",
    "\n",
    "    #represent the bentonite layer\n",
    "    plt.axvspan(0, 0.625, facecolor='royalblue', alpha=0.2)\n",
    "    #represent the OPA host rock\n",
    "    plt.axvspan(0.625, 20, facecolor='orange', alpha=0.05)\n",
    "    \n",
    "    for col_name, t, color in zip(soln[['1e3','1e4','1e5','1e6']], time, color_map):\n",
    "        ax.plot(soln['x'], soln[col_name], linestyle='-', lw=1.5,\n",
    "                label=str(np.format_float_scientific(t))+' years',\n",
    "                c=color, zorder=10, clip_on=False)\n",
    "    \n",
    "    ax.legend(frameon=False, loc='center right', numpoints=1, \n",
    "              fontsize=12, ncol=1)\n",
    "    \n",
    "    ax.xaxis.grid(color='gray', linestyle='dashed')\n",
    "    ax.yaxis.grid(color='gray', linestyle='dashed')\n",
    "    \n",
    "plot_analytical_solutions()"
   ]
  },
  {
   "cell_type": "markdown",
   "id": "184a73b2",
   "metadata": {},
   "source": [
    "**Numerical solution**"
   ]
  },
  {
   "cell_type": "markdown",
   "id": "ba4ca244",
   "metadata": {},
   "source": [
    "Correspondingly, the OGS input files of this 1D mass transport benchmark can be found <a href=\"https://gitlab.opengeosys.org/ogs/ogs/-/blob/master/Tests/Data/Parabolic/ComponentTransport/MultiLayerDiffusion/1D_MultiLayerDiffusion.prj\">here</a>.\n",
    "\n",
    "Then, the numerical solution by OpenGeoSys is plotted against the semi-analytical solution for comparison."
   ]
  },
  {
   "cell_type": "code",
   "execution_count": null,
   "id": "da8c6104",
   "metadata": {},
   "outputs": [],
   "source": [
    "#Run OGS simulation\n",
    "prj_name = \"1D_MultiLayerDiffusion\"\n",
    "data_dir = os.environ.get('OGS_DATA_DIR', '../../../Data')\n",
    "prj_file = f\"{data_dir}/Parabolic/ComponentTransport/MultiLayerDiffusion/{prj_name}.prj\"\n",
    "out_dir = os.environ.get('OGS_TESTRUNNER_OUT_DIR', '_out')\n",
    "\n",
    "if not os.path.exists(out_dir):\n",
    "    os.makedirs(out_dir)\n",
    "os.chdir(out_dir)\n",
    "\n",
    "print(f\"ogs {prj_file} > out.txt\")\n",
    "! ogs {prj_file} > out.txt\n",
    "\n",
    "#Read simulation results\n",
    "pvdfile = vtuIO.PVDIO(f\"{prj_name}.pvd\", dim=1)\n",
    "\n",
    "def plot_simulation_results():\n",
    "    fig, ax = plt.subplots()\n",
    "    \n",
    "    ax.set_xlim((0,20))\n",
    "    ax.set_ylim((0,1))\n",
    "        \n",
    "    plt.xlabel('Distance [m]')\n",
    "    plt.ylabel('HTO concentration [mol/L]')\n",
    "\n",
    "    #represent the bentonite layer\n",
    "    plt.axvspan(0, 0.625, facecolor='royalblue', alpha=0.2)\n",
    "    #represent the OPA host rock\n",
    "    plt.axvspan(0.625, 20, facecolor='orange', alpha=0.05)\n",
    "    \n",
    "    color_map=iter(cm.rainbow(np.linspace(0,1,len(time))))\n",
    "    \n",
    "    #Plot semi-analytical solutions \n",
    "    for col_name, t, color in zip(soln[['1e3','1e4','1e5','1e6']], time, color_map):\n",
    "        ax.plot(soln['x'], soln[col_name], linestyle='-', lw=1.5,\n",
    "                c=color, zorder=10, clip_on=False)\n",
    "    \n",
    "    #Add simulation results\n",
    "    x = np.linspace(0, 20, num=201)\n",
    "    color_map=iter(cm.rainbow(np.linspace(0,1,len(time))))\n",
    "    for t, color in zip(time, color_map):\n",
    "        c_t = pvdfile.read_set_data(t*3.1536e7, 'HTO', data_type=\"point\", pointsetarray=[(i,0,0) for i in x])\n",
    "        plt.plot(x, c_t, label=\"Sim. \"+str(np.format_float_scientific(t))+' years', \n",
    "                 color=color, marker='o', markevery=5, linestyle=\"\", zorder=10, clip_on=False)\n",
    "    \n",
    "    ax.legend(frameon=False, loc='center right', numpoints=1, \n",
    "             fontsize=12, ncol=1)\n",
    "    \n",
    "    ax.xaxis.grid(color='gray', linestyle='dashed')\n",
    "    ax.yaxis.grid(color='gray', linestyle='dashed')\n",
    "    \n",
    "plot_simulation_results()    "
   ]
  },
  {
   "cell_type": "markdown",
   "id": "62efef58",
   "metadata": {},
   "source": [
    "In the first time step, the semi-analytical and numerical solutions do not agree so well. As the time step progresses, they begin to agree more closely."
   ]
  },
  {
   "cell_type": "markdown",
   "id": "7eaebb84",
   "metadata": {},
   "source": [
    "**Mass flux calculation**"
   ]
  },
  {
   "cell_type": "markdown",
   "id": "bec379b3",
   "metadata": {},
   "source": [
    "Here is a sketch that shows how we calculate the molar flux at the node."
   ]
  },
  {
   "cell_type": "code",
   "execution_count": null,
   "id": "c46600e3",
   "metadata": {},
   "outputs": [],
   "source": [
    "notebook_dir = os.path.abspath(f\"{data_dir}/Parabolic/ComponentTransport/MultiLayerDiffusion\")\n",
    "\n",
    "from IPython.display import display, Image\n",
    "display(Image(filename=f\"{notebook_dir}/sketch_molar_flux_calculation.jpg\", width=400))"
   ]
  },
  {
   "cell_type": "markdown",
   "id": "5291ccaa",
   "metadata": {},
   "source": [
    "Additionally, we compute the molar flux profiles at $t$ = 10$^3$, 10$^4$, 10$^5$, and 10$^6$ years. The implementation of molar flux output can be viewed <a href=\"https://gitlab.opengeosys.org/ogs/ogs/-/merge_requests/4006\">at this link</a>."
   ]
  },
  {
   "cell_type": "code",
   "execution_count": null,
   "id": "affb96c7",
   "metadata": {},
   "outputs": [],
   "source": [
    "def plot_molar_flux():\n",
    "    fig, ax = plt.subplots()\n",
    "    \n",
    "    ax.set_xlim((0,20))\n",
    "        \n",
    "    plt.xlabel('Distance [m]')\n",
    "    plt.ylabel('Mass flux [mol/m$^2$/s]')\n",
    "\n",
    "    #represent the bentonite layer\n",
    "    plt.axvspan(0, 0.625, facecolor='royalblue', alpha=0.2)\n",
    "    #represent the OPA host rock\n",
    "    plt.axvspan(0.625, 20, facecolor='orange', alpha=0.05)\n",
    "    \n",
    "    #plot total mass flux\n",
    "    x = np.linspace(0, 20, num=201)\n",
    "    color_map=iter(cm.rainbow(np.linspace(0,1,len(time))))\n",
    "    for t, color in zip(time, color_map):\n",
    "        c_t = pvdfile.read_set_data(t*3.1536e7, 'molar_flux', data_type=\"point\", pointsetarray=[(i,0,0) for i in x])\n",
    "        plt.plot(x, c_t, label=\"Sim. \"+str(np.format_float_scientific(t))+' years', \n",
    "                 color=color, linestyle='-', lw=1.5, zorder=10, clip_on=False)\n",
    "    \n",
    "    ax.legend(frameon=False, loc='center right', numpoints=1, \n",
    "             fontsize=12, ncol=1)\n",
    "    \n",
    "    ax.xaxis.grid(color='gray', linestyle='dashed')\n",
    "    ax.yaxis.grid(color='gray', linestyle='dashed')\n",
    "    \n",
    "plot_molar_flux()    "
   ]
  },
  {
   "cell_type": "markdown",
   "id": "c545a86c",
   "metadata": {},
   "source": [
    "## References"
   ]
  },
  {
   "cell_type": "markdown",
   "id": "ed5c6a13",
   "metadata": {},
   "source": [
    "<a href=\"https://www.nagra.ch/de/technical-report-02-06\">Nagra, 2002</a>. Project Opalinus Clay: Models, Codes and Data for Safety Assessment. Technical Report NTB 02–06. Nagra, Switzerland.\n",
    "\n",
    "E. J. Carr and I. W. Turner (2016), A semi-analytical solution for multilayer diffusion in a composite medium consisting of a large number of layers, Applied Mathematical Modelling, 40: pp. 7034–7050. http://dx.doi.org/10.1016/j.apm.2016.02.041"
   ]
  },
  {
   "cell_type": "markdown",
   "id": "13cb6e7d",
   "metadata": {},
   "source": [
    "**Credits:**"
   ]
  },
  {
   "cell_type": "markdown",
   "id": "7e28fd18",
   "metadata": {},
   "source": [
    "Renchao Lu, Dmitri Naumov, Lars Bilke, Christoph Lehmann, Haibing Shao"
   ]
  }
 ],
 "metadata": {
  "kernelspec": {
   "display_name": "Python 3 (ipykernel)",
   "language": "python",
   "name": "python3"
  },
  "language_info": {
   "codemirror_mode": {
    "name": "ipython",
    "version": 3
   },
   "file_extension": ".py",
   "mimetype": "text/x-python",
   "name": "python",
   "nbconvert_exporter": "python",
   "pygments_lexer": "ipython3",
   "version": "3.9.7"
  }
 },
 "nbformat": 4,
 "nbformat_minor": 5
}
