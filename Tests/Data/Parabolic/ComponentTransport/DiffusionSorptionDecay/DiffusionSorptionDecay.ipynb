{
 "cells": [
  {
   "cell_type": "raw",
   "id": "f4d3389f-6a41-4c88-aa25-971c9a277d60",
   "metadata": {},
   "source": [
    "title = \"(Advection-)diffusion-sorption-decay problem\"\n",
    "date = \"2022-03-09\"\n",
    "author = \"Renchao Lu, Jaime Garibay-Rodriguez, Lars Bilke, Christoph Lehmann, Haibing Shao\"\n",
    "notebook = \"DiffusionSorptionDecay.ipynb\"\n",
    "[menu]\n",
    "  [menu.benchmarks]\n",
    "    parent = \"Hydro-Component\"\n",
    "<!--eofm-->"
   ]
  },
  {
   "cell_type": "code",
   "execution_count": 1,
   "id": "78389cc7",
   "metadata": {},
   "outputs": [],
   "source": [
    "import os\n",
    "import ogs6py\n",
    "import vtuIO\n",
    "import numpy as np\n",
    "from scipy import special\n",
    "import matplotlib.pyplot as plt\n",
    "from matplotlib.pyplot import cm"
   ]
  },
  {
   "cell_type": "markdown",
   "id": "fd2e3d13",
   "metadata": {},
   "source": [
    "# 1. Diffusion-sorption-decay problem"
   ]
  },
  {
   "cell_type": "markdown",
   "id": "224e0419",
   "metadata": {},
   "source": [
    "## 1.1 Problem description"
   ]
  },
  {
   "cell_type": "markdown",
   "id": "e92ab8e0",
   "metadata": {},
   "source": [
    "This benchmark is meant to model radionuclide migration through a semi-infinite column of undisturbed Opalinus Clay (OPA), which could potentially serve as a geological repository for radioactive waste. In this benchmark, Cesium ($^{135}$Cs) is chosen for investigation because it may be present in the repository if the disposal canister is ruptured. In view of the low hydraulic conductivity of OPA, Cesium migration is considered to be dominated by diffusion. Two additional processes are also considered, including (i) retardation resulting from solute sorption on the clay, and (ii) concentration attenuation caused by radioactive decay over time.\n",
    "\n",
    "In the one-dimensional model setup, the mass balance equation for the diffusion-sorption-decay process is given as follows:\n",
    "\n",
    "$$\n",
    "\\frac{\\partial \\left( \\phi R c\\right)}{\\partial t} = \\frac{\\partial}{\\partial x} \\left(\\phi \\mathrm{D_p} \\frac{\\partial c}{\\partial x} \\right) - \\phi \\alpha R c,\n",
    "$$\n",
    "\n",
    "where $c$ [mol/m$^3$] represents the $^{135}$Cs concentration in this example, $\\mathrm{D_p}$ [m$^2$/s] is the pore diffusion coefficient for $^{135}$Cs, $\\phi$ [-] is the porosity of OPA, $R$ [-] is the retardation factor defined as\n",
    "\n",
    "$$\n",
    "R = 1 + \\rho k_{d} / \\phi,\n",
    "$$\n",
    "\n",
    "with the dry density of OPA $\\rho$ [kg/m$^3$] and the distribution coefficient $k_d$ [m$^3$/kg], and $\\alpha$ [1/s] is the first-order decay constant, i.e.:\n",
    "\n",
    "$$\n",
    "\\alpha = \\mathrm{ln} 2 \\, / \\, t_{1/2},\n",
    "$$\n",
    "\n",
    "where $t_{1/2}$ [s] is the half life of the diffusing radionuclide."
   ]
  },
  {
   "cell_type": "markdown",
   "id": "b5c1bb2f",
   "metadata": {},
   "source": [
    "## 1.2 Model setups"
   ]
  },
  {
   "cell_type": "markdown",
   "id": "a6783295",
   "metadata": {},
   "source": [
    "Our simulation domain is set to be 20 meters long, which is sufficient to ensure that the concentration profile does not reach the right-hand boundary during simulation. The simulated time is one million years. Initially, the entire domain is assumed to be solute free, i.e., $c_{\\mathrm{ini}}(x, 0) = 0$. The inlet concentration is held at 1 mol/L throughout the simulation, i.e., $c(0, t) = 1$ mol/L. The spatial domain is discretized by linear line elements with a length of 0.01 meter each. The time step size of one thousand years is used in the simulation. The linearized governing equation is iteratively solved using the Newton-Raphson method.\n",
    "\n",
    "The table below summarizes the parameters used in the simulation.\n",
    "\n",
    "| Parameter | Value | Unit |\n",
    "| :-: | :-: | :-: |\n",
    "| Porosity $\\phi$ | 0.12 | - |\n",
    "| Pore diffusion coefficient $\\mathrm{D_p}$ | 8.33e-11 | m$^2$/s |\n",
    "| OPA bulk density $\\rho$ | 2394 | kg/m$^3$ |\n",
    "| Distribution coefficient $k_{d}$ | 0.5 | m$^3$/kg |\n",
    "| $^{135}$Cs half life $t_{1/2}$ | 2.3e6 | year |\n",
    "| Time step size $\\Delta t$ | 1e3 | year |\n",
    "| Grid size $\\Delta x$ | 0.01 | m|\n",
    "\n",
    "Notes: The parameter values are sourced from Nagra (2002)."
   ]
  },
  {
   "cell_type": "markdown",
   "id": "f53e0e38",
   "metadata": {},
   "source": [
    "## 1.3 Results"
   ]
  },
  {
   "cell_type": "markdown",
   "id": "9aa217c2",
   "metadata": {},
   "source": [
    "**Analytical solution**\n",
    "\n",
    "The time-dependent concentration profile can be analytically calculated as a function of $t$ and $x$. The analytical solution for this diffusion-soprtion-decay system is given in Carslaw and Jaeger (1959):\n",
    "\n",
    "$$\n",
    "c(x, t) = \\frac{c_0}{2} \\left\\{ \\mathrm{exp} \\left[-x \\left(\\frac{\\alpha R}{\\mathrm{D_p}}\\right)^{\\frac{1}{2}} \\right] \\mathrm{erfc} \\left[ \\frac{x}{2} \\left(\\frac{R}{\\mathrm{D_p}t}\\right)^{\\frac{1}{2}} - \\left(\\alpha t\\right)^{\\frac{1}{2}}\\right] + \\mathrm{exp} \\left[x \\left(\\frac{\\alpha R}{\\mathrm{D_p}}\\right)^{\\frac{1}{2}} \\right] \\mathrm{erfc} \\left[ \\frac{x}{2} \\left(\\frac{R}{\\mathrm{D_p}t}\\right)^{\\frac{1}{2}} + \\left(\\alpha t\\right)^{\\frac{1}{2}}\\right]\\right\\}\n",
    "$$\n",
    "\n",
    "Below a python script is presented, through which the concentration profiles can be analytically calculated at any time."
   ]
  },
  {
   "cell_type": "markdown",
   "id": "ec847649",
   "metadata": {},
   "source": [
    "Here the concentration profiles are illustrated at $t$ = 10$^3$, 10$^4$, 10$^5$, and 10$^6$ years."
   ]
  },
  {
   "cell_type": "code",
   "execution_count": 2,
   "id": "fc7b6202",
   "metadata": {},
   "outputs": [],
   "source": [
    "###Model parameters###\n",
    "#Effective diffusion coefficient [m2/s]\n",
    "De = 1e-11\n",
    "#Porosity [-]\n",
    "phi = 0.12\n",
    "#Pore diffusion coefficient [m2/s]\n",
    "Dp = De / phi\n",
    "#Porous medium bulk density [kg/m3]\n",
    "rho = 2.394e3\n",
    "#Distribution coefficient [m3/kg]\n",
    "Kd = 0.5\n",
    "#135-Cs Half-life [year]\n",
    "half_life = 2.3e6\n",
    "#Decay constant [1/s]\n",
    "alpha = np.log(2)/half_life/3.1536e7 # unit conversion from year to second\n",
    "\n",
    "###Spatial and temporal discretization###\n",
    "#Distance [m]\n",
    "x = np.linspace(0, 2, num=201)\n",
    "#Time [year]\n",
    "time = np.array([1e3, 1e4, 1e5, 1e6])\n",
    "\n",
    "###Initial condition and boundary conditions###\n",
    "#Initial condition [mol/L]\n",
    "c_ini = 0\n",
    "#Inlet concentration [mol/L]\n",
    "c_inlet = 1\n",
    "\n",
    "###Intermediate parameters###\n",
    "#Retardation factor [-]\n",
    "R = 1 + rho*Kd/phi\n",
    "\n",
    "###Analytical solution###\n",
    "c = np.empty((0, x.size))\n",
    "for t in time*3.1536e7: #unit conversion from year to second\n",
    "    c_t = c_inlet/2*(np.exp(-x*(alpha*R/Dp)**0.5)*special.erfc(x/2*(R/Dp/t)**0.5-(alpha*t)**0.5) \\\n",
    "               + np.exp(x*(alpha*R/Dp)**0.5)*special.erfc(x/2*(R/Dp/t)**0.5+(alpha*t)**0.5))\n",
    "    c = np.vstack([c, c_t])"
   ]
  },
  {
   "cell_type": "markdown",
   "id": "c1b55aee",
   "metadata": {},
   "source": [
    "The analytically computed $^{135}$Cs concentration profiles at $t$ = 10$^3$, 10$^4$, 10$^5$, and 10$^6$ years are plotted as shown in the figure below."
   ]
  },
  {
   "cell_type": "code",
   "execution_count": 3,
   "id": "780c4779",
   "metadata": {},
   "outputs": [
    {
     "data": {
      "image/png": "[encoded data removed]",
      "text/plain": [
       "<Figure size 432x288 with 1 Axes>"
      ]
     },
     "metadata": {
      "needs_background": "light"
     },
     "output_type": "display_data"
    }
   ],
   "source": [
    "#plot analytical solution\n",
    "def plot_analytical_solutions():\n",
    "    fig, ax = plt.subplots()\n",
    "    \n",
    "    ax.set_xlim((0,2))\n",
    "    ax.set_ylim((0,1))\n",
    "    \n",
    "    plt.xlabel('Distance [m]')\n",
    "    plt.ylabel('$^{135}$ Cs concentration [mol/L]')\n",
    "\n",
    "    color_map=iter(cm.rainbow(np.linspace(0,1,len(time))))\n",
    "    \n",
    "    for c_t, t, color in zip(c, time, color_map):\n",
    "        ax.plot(x, c_t, linestyle='-', lw=1.5,\n",
    "                label=str(np.format_float_scientific(t))+' years',\n",
    "                c=color, zorder=10, clip_on=False)\n",
    "    \n",
    "    ax.legend(frameon=False, loc='upper right', numpoints=1, \n",
    "              fontsize=12, ncol=1)\n",
    "    \n",
    "    ax.xaxis.grid(color='gray', linestyle='dashed')\n",
    "    ax.yaxis.grid(color='gray', linestyle='dashed')\n",
    "    \n",
    "plot_analytical_solutions()    "
   ]
  },
  {
   "cell_type": "markdown",
   "id": "6c9385c6",
   "metadata": {},
   "source": [
    "**Numerical solution**"
   ]
  },
  {
   "cell_type": "markdown",
   "id": "0dcd69b9",
   "metadata": {},
   "source": [
    "Correspondingly, the OGS input files of this 1D mass transport model can be found <a href=\"https://gitlab.opengeosys.org/ogs/ogs/-/blob/master/Tests/Data/Parabolic/ComponentTransport/DiffusionSorptionDecay/DiffusionSorptionDecay.prj\">here</a>.\n",
    "\n",
    "Then, the numerical solution of OpenGeoSys is plotted against the analytical solution for comparison."
   ]
  },
  {
   "cell_type": "code",
   "execution_count": 4,
   "id": "52b3251d",
   "metadata": {},
   "outputs": [
    {
     "name": "stdout",
     "output_type": "stream",
     "text": [
      "ogs ../../../Data/Parabolic/ComponentTransport/DiffusionSorptionDecay/1D_DiffusionSorptionDecay.prj > out.txt\n",
      "/bin/bash: ogs: command not found\r\n"
     ]
    },
    {
     "ename": "RuntimeError",
     "evalue": "File not found: 1D_DiffusionSorptionDecay.pvd",
     "output_type": "error",
     "traceback": [
      "\u001b[0;31m---------------------------------------------------------------------------\u001b[0m",
      "\u001b[0;31mRuntimeError\u001b[0m                              Traceback (most recent call last)",
      "\u001b[0;32m<ipython-input-4-f2b27ec575c0>\u001b[0m in \u001b[0;36m<module>\u001b[0;34m\u001b[0m\n\u001b[1;32m     13\u001b[0m \u001b[0;34m\u001b[0m\u001b[0m\n\u001b[1;32m     14\u001b[0m \u001b[0;31m#Read simulation results\u001b[0m\u001b[0;34m\u001b[0m\u001b[0;34m\u001b[0m\u001b[0;34m\u001b[0m\u001b[0m\n\u001b[0;32m---> 15\u001b[0;31m \u001b[0mpvdfile\u001b[0m \u001b[0;34m=\u001b[0m \u001b[0mvtuIO\u001b[0m\u001b[0;34m.\u001b[0m\u001b[0mPVDIO\u001b[0m\u001b[0;34m(\u001b[0m\u001b[0;34mf\"{prj_name}.pvd\"\u001b[0m\u001b[0;34m,\u001b[0m \u001b[0mdim\u001b[0m\u001b[0;34m=\u001b[0m\u001b[0;36m1\u001b[0m\u001b[0;34m)\u001b[0m\u001b[0;34m\u001b[0m\u001b[0;34m\u001b[0m\u001b[0m\n\u001b[0m\u001b[1;32m     16\u001b[0m \u001b[0;34m\u001b[0m\u001b[0m\n\u001b[1;32m     17\u001b[0m \u001b[0;32mdef\u001b[0m \u001b[0mplot_simulation_results\u001b[0m\u001b[0;34m(\u001b[0m\u001b[0;34m)\u001b[0m\u001b[0;34m:\u001b[0m\u001b[0;34m\u001b[0m\u001b[0;34m\u001b[0m\u001b[0m\n",
      "\u001b[0;32m~/my_project_dir/my_project_env/lib/python3.6/site-packages/vtuIO.py\u001b[0m in \u001b[0;36m__init__\u001b[0;34m(self, filename, nneighbors, dim, one_d_axis, two_d_planenormal, interpolation_backend)\u001b[0m\n\u001b[1;32m    528\u001b[0m             \u001b[0mself\u001b[0m\u001b[0;34m.\u001b[0m\u001b[0mfolder\u001b[0m\u001b[0;34m,\u001b[0m \u001b[0mself\u001b[0m\u001b[0;34m.\u001b[0m\u001b[0mfilename\u001b[0m \u001b[0;34m=\u001b[0m \u001b[0mos\u001b[0m\u001b[0;34m.\u001b[0m\u001b[0mpath\u001b[0m\u001b[0;34m.\u001b[0m\u001b[0msplit\u001b[0m\u001b[0;34m(\u001b[0m\u001b[0mfilename\u001b[0m\u001b[0;34m)\u001b[0m\u001b[0;34m\u001b[0m\u001b[0;34m\u001b[0m\u001b[0m\n\u001b[1;32m    529\u001b[0m         \u001b[0;32melse\u001b[0m\u001b[0;34m:\u001b[0m\u001b[0;34m\u001b[0m\u001b[0;34m\u001b[0m\u001b[0m\n\u001b[0;32m--> 530\u001b[0;31m             \u001b[0;32mraise\u001b[0m \u001b[0mRuntimeError\u001b[0m\u001b[0;34m(\u001b[0m\u001b[0;34mf\"File not found: {filename}\"\u001b[0m\u001b[0;34m)\u001b[0m\u001b[0;34m\u001b[0m\u001b[0;34m\u001b[0m\u001b[0m\n\u001b[0m\u001b[1;32m    531\u001b[0m         \u001b[0mself\u001b[0m\u001b[0;34m.\u001b[0m\u001b[0mnneighbors\u001b[0m \u001b[0;34m=\u001b[0m \u001b[0mnneighbors\u001b[0m\u001b[0;34m\u001b[0m\u001b[0;34m\u001b[0m\u001b[0m\n\u001b[1;32m    532\u001b[0m         \u001b[0mself\u001b[0m\u001b[0;34m.\u001b[0m\u001b[0mtimesteps\u001b[0m \u001b[0;34m=\u001b[0m \u001b[0mnp\u001b[0m\u001b[0;34m.\u001b[0m\u001b[0marray\u001b[0m\u001b[0;34m(\u001b[0m\u001b[0;34m[\u001b[0m\u001b[0;34m]\u001b[0m\u001b[0;34m)\u001b[0m\u001b[0;34m\u001b[0m\u001b[0;34m\u001b[0m\u001b[0m\n",
      "\u001b[0;31mRuntimeError\u001b[0m: File not found: 1D_DiffusionSorptionDecay.pvd"
     ]
    }
   ],
   "source": [
    "#Run OGS simulation\n",
    "prj_name = \"1D_DiffusionSorptionDecay\"\n",
    "data_dir = os.environ.get('OGS_DATA_DIR', '../../../Data')\n",
    "prj_file = f\"{data_dir}/Parabolic/ComponentTransport/DiffusionSorptionDecay/{prj_name}.prj\"\n",
    "out_dir = os.environ.get('OGS_TESTRUNNER_OUT_DIR', '_out')\n",
    "\n",
    "if not os.path.exists(out_dir):\n",
    "    os.makedirs(out_dir)\n",
    "os.chdir(out_dir)\n",
    "\n",
    "print(f\"ogs {prj_file} > out.txt\")\n",
    "! ogs {prj_file} > out.txt\n",
    "\n",
    "#Read simulation results\n",
    "pvdfile = vtuIO.PVDIO(f\"{prj_name}.pvd\", dim=1)\n",
    "\n",
    "def plot_simulation_results():\n",
    "    fig, ax = plt.subplots()\n",
    "    \n",
    "    ax.set_xlim((0,2))\n",
    "    ax.set_ylim((0,1))\n",
    "        \n",
    "    plt.xlabel('Distance [m]')\n",
    "    plt.ylabel('$^{135}$ Cs concentration [mol/L]')\n",
    "    \n",
    "    color_map = iter(cm.rainbow(np.linspace(0,1,len(time))))\n",
    "    #Plot analytical solutions \n",
    "    for c_t, color in zip(c, color_map):\n",
    "        ax.plot(x, c_t, linestyle='-', lw=1.5,\n",
    "                c=color, zorder=10, clip_on=False)\n",
    "        \n",
    "    #Add simulation results\n",
    "    color_map=iter(cm.rainbow(np.linspace(0,1,len(time))))\n",
    "    for t, color in zip(time, color_map):\n",
    "        c_t = pvdfile.read_set_data(t*3.1536e7, 'Cs', data_type=\"point\", pointsetarray=[(i,0,0) for i in x])\n",
    "        plt.plot(x, c_t, label=\"Sim. \"+str(np.format_float_scientific(t))+' years', \n",
    "                 color=color, marker='o', markevery=5, linestyle=\"\", zorder=10, clip_on=False)\n",
    "    \n",
    "    ax.legend(frameon=False, loc='upper right', numpoints=1, \n",
    "              fontsize=12, ncol=1)\n",
    "    \n",
    "    ax.xaxis.grid(color='gray', linestyle='dashed')\n",
    "    ax.yaxis.grid(color='gray', linestyle='dashed')\n",
    "    \n",
    "plot_simulation_results()    "
   ]
  },
  {
   "cell_type": "markdown",
   "id": "3f9d30b9",
   "metadata": {},
   "source": [
    "In the figure above, it can be seen that the numerical profiles and analytical solutions agree well at different times."
   ]
  },
  {
   "cell_type": "markdown",
   "id": "fb2ba4a0",
   "metadata": {},
   "source": [
    "**Error estimation**\n",
    "\n",
    "To evaluate the accuracy of numerical solution, the Euclidean norm of the approximate solution error $|| \\mathbf{c} - \\mathbf{c}^{\\mathrm{exact}}||_{2} = \\left(\\sum\\mathop{}_{\\mkern-5mu i} |c_i - c_{i}^{\\mathrm{exact}}|^2 \\right)^{1/2}$ over the entire domain is calculated based on the exact analytical solution $\\mathbf{c}^{\\mathrm{exact}}$."
   ]
  },
  {
   "cell_type": "code",
   "execution_count": null,
   "id": "4c361eb8",
   "metadata": {},
   "outputs": [],
   "source": [
    "l2_norm_error = np.empty((0, 1))\n",
    "\n",
    "for c_ext, t in zip(c, time):\n",
    "    c_sim = pvdfile.read_set_data(t*3.1536e7, 'Cs', data_type=\"point\", pointsetarray=[(i,0,0) for i in x])\n",
    "    \n",
    "    l2_norm_error_t = np.log10(np.sum((c_sim - c_ext)**2)**0.5)\n",
    "    l2_norm_error = np.vstack([l2_norm_error, l2_norm_error_t])"
   ]
  },
  {
   "cell_type": "code",
   "execution_count": null,
   "id": "a69fad2d",
   "metadata": {},
   "outputs": [],
   "source": [
    "def plot_l2_norm_error():\n",
    "    fig, ax = plt.subplots()\n",
    "    \n",
    "    ax.set_xlim((0,1e6))\n",
    "    ax.set_ylim((-4,0))\n",
    "    \n",
    "    plt.xlabel('Time [year]')\n",
    "    plt.ylabel('Log $||\\mathbf{c}-\\mathbf{c^{exact}}||_{2}$')\n",
    "    \n",
    "    ax.plot(time, l2_norm_error, linestyle='-', lw=1.5, \n",
    "            marker='o', zorder=10, clip_on=False)\n",
    "    \n",
    "    ax.xaxis.grid(color='gray', linestyle='dashed')\n",
    "    ax.yaxis.grid(color='gray', linestyle='dashed')"
   ]
  },
  {
   "cell_type": "code",
   "execution_count": null,
   "id": "3f8b3261",
   "metadata": {},
   "outputs": [],
   "source": [
    "plot_l2_norm_error()"
   ]
  },
  {
   "cell_type": "markdown",
   "id": "be4b95f8",
   "metadata": {},
   "source": [
    "As the simulation time increases, the L$_2$ error norm decreases rapidly and evenually drops down to 10$^{-3}$."
   ]
  },
  {
   "cell_type": "markdown",
   "id": "beee1fad",
   "metadata": {},
   "source": [
    "# 2. Advection-diffusion-sorption-decay problem"
   ]
  },
  {
   "cell_type": "markdown",
   "id": "e628a300",
   "metadata": {},
   "source": [
    "## 2.1 Problem description"
   ]
  },
  {
   "cell_type": "markdown",
   "id": "037f7501",
   "metadata": {},
   "source": [
    "From the preceding example, we further incorporate advective transport within OPA. The mass balance equation is thus extended into\n",
    "\n",
    "$$\n",
    "\\frac{\\partial \\left( \\phi R c\\right)}{\\partial t} = \\frac{\\partial}{\\partial x} \\left(\\phi \\mathrm{D_p} \\frac{\\partial c}{\\partial x} - qc \\right) - \\phi \\alpha R c,\n",
    "$$\n",
    "\n",
    "with the Darcy velocity $q$ [m/s]. Note that the effect of velocity-dependent dispersion is neglected."
   ]
  },
  {
   "cell_type": "markdown",
   "id": "fe7e7278",
   "metadata": {},
   "source": [
    "## 2.2 Model setups"
   ]
  },
  {
   "cell_type": "markdown",
   "id": "0dbe8c2c",
   "metadata": {},
   "source": [
    "The parameters used in this example are kept the same as in the preceding one (see the table below), except we addtionally consider a constant Darcy velocity of 2e-11 m/s through OPA.\n",
    "\n",
    "| Parameter | Value | Unit |\n",
    "| :-: | :-: | :-: |\n",
    "| Porosity $\\phi$ | 0.12 | - |\n",
    "| Pore diffusion coefficient $\\mathrm{D_p}$ | 8.33e-11 | m$^2$/s |\n",
    "| OPA bulk density $\\rho$ | 2394 | kg/m$^3$ |\n",
    "| Distribution coefficient $k_{\\mathrm{d}}$ | 0.5 | m$^3$/kg |\n",
    "| $^{135}$Cs half life $t_{1/2}$ | 2.3e6 | year |\n",
    "| Darcy velocity $q$ | 2e-11 | m/s | \n",
    "| Time step size $\\Delta t$ | 1e3 | year |\n",
    "| Grid size $\\Delta x$ | 0.01 | m|"
   ]
  },
  {
   "cell_type": "markdown",
   "id": "32c97a51",
   "metadata": {},
   "source": [
    "## 2.3 Results"
   ]
  },
  {
   "cell_type": "markdown",
   "id": "012d651a",
   "metadata": {},
   "source": [
    "**Analytical solution**\n",
    "\n",
    "Likewise, we find the analytical solution for this advection-diffusion-soprtion-decay system in Van Genuchten (1981), which is given as:\n",
    "\n",
    "$$\n",
    "c(x,t) = c_0 H(x,t) + M(x,t),\n",
    "$$\n",
    "\n",
    "where\n",
    "\n",
    "$$\n",
    "H(x,t) = \\frac{1}{2}\\mathrm{exp}\\left[\\frac{\\left(v-u\\right)x} {2D_{\\mathrm{p}}}\\right]\\mathrm{erfc}\\left[\\frac{Rx-ut}{2\\left(D_{\\mathrm{p}}Rt\\right)^{1/2}}\\right] + \\frac{1}{2}\\mathrm{exp}\\left[\\frac{\\left(v+u\\right)x} {2D_{\\mathrm{p}}}\\right]\\mathrm{erfc}\\left[\\frac{Rx+ut}{2\\left(D_{\\mathrm{p}}Rt\\right)^{1/2}}\\right],\n",
    "$$\n",
    "\n",
    "$$\n",
    "M(x,t) = -c_{\\mathrm{ini}} \\mathrm{exp}\\left(-\\frac{\\mu t}{R}\\right)\\left\\{\\frac{1}{2}\\mathrm{erfc}\\left[\\frac{Rx-vt}{2\\left(D_{\\mathrm{p}}Rt\\right)^{1/2}}\\right] + \\frac{1}{2}\\mathrm{exp}\\left(\\frac{vx}{D_{\\mathrm{p}}}\\right)\\mathrm{erfc}\\left[\\frac{Rx+vt}{2\\left(D_{\\mathrm{p}}Rt\\right)^{1/2}}\\right]\\right\\} + c_i \\mathrm{exp}\\left(-\\frac{\\mu t}{R}\\right),\n",
    "$$\n",
    "\n",
    "and\n",
    "\n",
    "$$\n",
    "u = v \\left(1 + \\frac{4\\mu D_{\\mathrm{p}}}{v^2} \\right)^{1/2},\n",
    "$$\n",
    "\n",
    "with the pore water velocity $v$ [m/s], i.e., $v = q \\,/ \\phi$, and $\\mu = \\alpha R$."
   ]
  },
  {
   "cell_type": "markdown",
   "id": "75dd1682",
   "metadata": {},
   "source": [
    "With the python script provided below, the $^{135}$Cs concentration profiles at $t$ = 10$^3$, 10$^4$, 10$^5$, and 10$^6$ years are analytically computed."
   ]
  },
  {
   "cell_type": "code",
   "execution_count": 5,
   "id": "c777721c",
   "metadata": {},
   "outputs": [
    {
     "data": {
      "image/png": "[encoded data removed]",
      "text/plain": [
       "<Figure size 432x288 with 1 Axes>"
      ]
     },
     "metadata": {
      "needs_background": "light"
     },
     "output_type": "display_data"
    }
   ],
   "source": [
    "#Auxilary functions\n",
    "def H(x, t):\n",
    "    return 0.5*np.exp((v-u)*x/2/D)*special.erfc((R*x-u*t)/2/(D*R*t)**0.5) \\\n",
    "    + 0.5*np.exp((v+u)*x/2/D)*special.erfc((R*x+u*t)/2/(D*R*t)**0.5)\n",
    "\n",
    "def M(x, t):\n",
    "    return - c_ini*np.exp(-mu*t/R)*(0.5*special.erfc((R*x-v*t)/2/(D*R*t)**0.5)\\\n",
    "    + 0.5*np.exp(v*x/D)*special.erfc((R*x+v*t)/2/(D*R*t)**0.5)) \\\n",
    "    + c_ini*np.exp(-mu*t/R)\n",
    "\n",
    "###Input parameters###\n",
    "#Effective diffusion coefficient [m2/s]\n",
    "De = 1e-11\n",
    "#Porosity [-]\n",
    "phi = 0.12\n",
    "#Pore diffusion coefficient [m2/s]\n",
    "D = De / phi\n",
    "#Porous medium bulk density [kg/m3]\n",
    "rho = 2.394e3\n",
    "#Distribution coefficient [m3/kg]\n",
    "Kd = 0.5\n",
    "#Retardation factor [-]\n",
    "R = 1 + rho*Kd/phi\n",
    "#135-Cs Half-life [year]\n",
    "half_life = 2.3e6\n",
    "#Decay constant [1/s]\n",
    "k = np.log(2)/half_life/3.1536e7 # unit conversion from year to second\n",
    "#Include advective mechansim\n",
    "#Darcy velocity [m/s]\n",
    "q = 2e-11\n",
    "#Pore water velocity [m/s]\n",
    "v = q / phi\n",
    "\n",
    "###Spatial and temporal discretization###\n",
    "#Distance [m]\n",
    "x = np.linspace(0, 2, num=201)\n",
    "#Time [year]\n",
    "time = np.array([1e3, 1e4, 1e5, 1e6])\n",
    "\n",
    "###Initial condition and boundary conditions###\n",
    "#Initial condition [mol/L]\n",
    "c_ini = 0\n",
    "#Inflow concentration [mol/L]\n",
    "c0 = 1\n",
    "\n",
    "###Intermediate parameters###\n",
    "mu = k * R\n",
    "u = v*(1+4*mu*D/v**2)**0.5\n",
    "\n",
    "###Analytical solution###\n",
    "c = np.empty((0, x.size))\n",
    "for t in time*3.1536e7: #unit conversion from year to second\n",
    "    c_t = c0*H(x, t) + M(x, t)\n",
    "    c = np.vstack([c, c_t])\n",
    "\n",
    "plot_analytical_solutions()"
   ]
  },
  {
   "cell_type": "markdown",
   "id": "17238e53",
   "metadata": {},
   "source": [
    "**Numerical solution**"
   ]
  },
  {
   "cell_type": "markdown",
   "id": "df0d78d1",
   "metadata": {},
   "source": [
    "Also, a 1D mass transport model is established. The corresponding OGS input files can be found <a href=\"https://gitlab.opengeosys.org/ogs/ogs/-/blob/master/Tests/Data/Parabolic/ComponentTransport/AdvectionDiffusionSorptionDecay/1D_AdvectionDiffusionSorptionDecay.prj\">here</a>.\n",
    "\n",
    "Then, the numerical solution is plotted against the analytical solution for comparison."
   ]
  },
  {
   "cell_type": "code",
   "execution_count": 6,
   "id": "7c1b574a",
   "metadata": {},
   "outputs": [
    {
     "name": "stdout",
     "output_type": "stream",
     "text": [
      "ogs ../../../Data/Parabolic/ComponentTransport/AdvectionDiffusionSorptionDecay/1D_AdvectionDiffusionSorptionDecay.prj > out.txt\n",
      "/bin/bash: ogs: command not found\r\n"
     ]
    },
    {
     "ename": "RuntimeError",
     "evalue": "File not found: 1D_AdvectionDiffusionSorptionDecay.pvd",
     "output_type": "error",
     "traceback": [
      "\u001b[0;31m---------------------------------------------------------------------------\u001b[0m",
      "\u001b[0;31mRuntimeError\u001b[0m                              Traceback (most recent call last)",
      "\u001b[0;32m<ipython-input-6-a1b13ef56e4b>\u001b[0m in \u001b[0;36m<module>\u001b[0;34m\u001b[0m\n\u001b[1;32m     13\u001b[0m \u001b[0;34m\u001b[0m\u001b[0m\n\u001b[1;32m     14\u001b[0m \u001b[0;31m#Read simulation results\u001b[0m\u001b[0;34m\u001b[0m\u001b[0;34m\u001b[0m\u001b[0;34m\u001b[0m\u001b[0m\n\u001b[0;32m---> 15\u001b[0;31m \u001b[0mpvdfile\u001b[0m \u001b[0;34m=\u001b[0m \u001b[0mvtuIO\u001b[0m\u001b[0;34m.\u001b[0m\u001b[0mPVDIO\u001b[0m\u001b[0;34m(\u001b[0m\u001b[0;34mf\"{prj_name}.pvd\"\u001b[0m\u001b[0;34m,\u001b[0m \u001b[0mdim\u001b[0m\u001b[0;34m=\u001b[0m\u001b[0;36m1\u001b[0m\u001b[0;34m)\u001b[0m\u001b[0;34m\u001b[0m\u001b[0;34m\u001b[0m\u001b[0m\n\u001b[0m\u001b[1;32m     16\u001b[0m \u001b[0;34m\u001b[0m\u001b[0m\n\u001b[1;32m     17\u001b[0m \u001b[0;31m#Plot simulation results\u001b[0m\u001b[0;34m\u001b[0m\u001b[0;34m\u001b[0m\u001b[0;34m\u001b[0m\u001b[0m\n",
      "\u001b[0;32m~/my_project_dir/my_project_env/lib/python3.6/site-packages/vtuIO.py\u001b[0m in \u001b[0;36m__init__\u001b[0;34m(self, filename, nneighbors, dim, one_d_axis, two_d_planenormal, interpolation_backend)\u001b[0m\n\u001b[1;32m    528\u001b[0m             \u001b[0mself\u001b[0m\u001b[0;34m.\u001b[0m\u001b[0mfolder\u001b[0m\u001b[0;34m,\u001b[0m \u001b[0mself\u001b[0m\u001b[0;34m.\u001b[0m\u001b[0mfilename\u001b[0m \u001b[0;34m=\u001b[0m \u001b[0mos\u001b[0m\u001b[0;34m.\u001b[0m\u001b[0mpath\u001b[0m\u001b[0;34m.\u001b[0m\u001b[0msplit\u001b[0m\u001b[0;34m(\u001b[0m\u001b[0mfilename\u001b[0m\u001b[0;34m)\u001b[0m\u001b[0;34m\u001b[0m\u001b[0;34m\u001b[0m\u001b[0m\n\u001b[1;32m    529\u001b[0m         \u001b[0;32melse\u001b[0m\u001b[0;34m:\u001b[0m\u001b[0;34m\u001b[0m\u001b[0;34m\u001b[0m\u001b[0m\n\u001b[0;32m--> 530\u001b[0;31m             \u001b[0;32mraise\u001b[0m \u001b[0mRuntimeError\u001b[0m\u001b[0;34m(\u001b[0m\u001b[0;34mf\"File not found: {filename}\"\u001b[0m\u001b[0;34m)\u001b[0m\u001b[0;34m\u001b[0m\u001b[0;34m\u001b[0m\u001b[0m\n\u001b[0m\u001b[1;32m    531\u001b[0m         \u001b[0mself\u001b[0m\u001b[0;34m.\u001b[0m\u001b[0mnneighbors\u001b[0m \u001b[0;34m=\u001b[0m \u001b[0mnneighbors\u001b[0m\u001b[0;34m\u001b[0m\u001b[0;34m\u001b[0m\u001b[0m\n\u001b[1;32m    532\u001b[0m         \u001b[0mself\u001b[0m\u001b[0;34m.\u001b[0m\u001b[0mtimesteps\u001b[0m \u001b[0;34m=\u001b[0m \u001b[0mnp\u001b[0m\u001b[0;34m.\u001b[0m\u001b[0marray\u001b[0m\u001b[0;34m(\u001b[0m\u001b[0;34m[\u001b[0m\u001b[0;34m]\u001b[0m\u001b[0;34m)\u001b[0m\u001b[0;34m\u001b[0m\u001b[0;34m\u001b[0m\u001b[0m\n",
      "\u001b[0;31mRuntimeError\u001b[0m: File not found: 1D_AdvectionDiffusionSorptionDecay.pvd"
     ]
    }
   ],
   "source": [
    "#Run OGS simulation\n",
    "prj_name = \"1D_AdvectionDiffusionSorptionDecay\"\n",
    "data_dir = os.environ.get('OGS_DATA_DIR', '../../../Data')\n",
    "prj_file = f\"{data_dir}/Parabolic/ComponentTransport/AdvectionDiffusionSorptionDecay/{prj_name}.prj\"\n",
    "out_dir = os.environ.get('OGS_TESTRUNNER_OUT_DIR', '_out')\n",
    "\n",
    "if not os.path.exists(out_dir):\n",
    "    os.makedirs(out_dir)\n",
    "os.chdir(out_dir)\n",
    "\n",
    "print(f\"ogs {prj_file} > out.txt\")\n",
    "! ogs {prj_file} > out.txt\n",
    "\n",
    "#Read simulation results\n",
    "pvdfile = vtuIO.PVDIO(f\"{prj_name}.pvd\", dim=1)\n",
    "\n",
    "#Plot simulation results\n",
    "plot_simulation_results()    "
   ]
  },
  {
   "cell_type": "markdown",
   "id": "79511a41",
   "metadata": {},
   "source": [
    "As shown in the figure above, the numerical and analytical solutions at different times reach in a good agreement."
   ]
  },
  {
   "cell_type": "markdown",
   "id": "af6412e5",
   "metadata": {},
   "source": [
    "## References"
   ]
  },
  {
   "cell_type": "markdown",
   "id": "4bbd982b",
   "metadata": {},
   "source": [
    "<a href=\"https://www.nagra.ch/de/technical-report-02-06\">Nagra, 2002.</a> Project Opalinus Clay: Models, Codes and Data for Safety Assessment. Technical Report NTB 02–06. Nagra, Switzerland.\n",
    "\n",
    "Carslaw, H. S. & Jaeger, J. C., 1959: Conduction of heat in solids. 2nd Ed., Oxford Science Publications, Clarendon\n",
    "Press, Oxford, UK.\n",
    "\n",
    "Van Genuchten, M.T., 1981. Analytical solutions for chemical transport with simultaneous adsorption, zero-order production and first-order decay. Journal of hydrology, 49(3-4), pp.213-233."
   ]
  },
  {
   "cell_type": "markdown",
   "id": "8f3a39bb",
   "metadata": {},
   "source": [
    "**Credits:**"
   ]
  },
  {
   "cell_type": "markdown",
   "id": "2af839e6",
   "metadata": {},
   "source": [
    "Renchao Lu, Jaime Garibay-Rodriguez, Lars Bilke, Christoph Lehmann, Haibing Shao"
   ]
  }
 ],
 "metadata": {
  "kernelspec": {
   "display_name": "Python 3",
   "language": "python",
   "name": "python3"
  },
  "language_info": {
   "codemirror_mode": {
    "name": "ipython",
    "version": 3
   },
   "file_extension": ".py",
   "mimetype": "text/x-python",
   "name": "python",
   "nbconvert_exporter": "python",
   "pygments_lexer": "ipython3",
   "version": "3.6.9"
  }
 },
 "nbformat": 4,
 "nbformat_minor": 5
}
