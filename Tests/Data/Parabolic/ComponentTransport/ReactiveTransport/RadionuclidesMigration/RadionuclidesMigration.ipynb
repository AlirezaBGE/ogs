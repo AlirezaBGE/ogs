{
 "cells": [
  {
   "cell_type": "raw",
   "id": "f4d3389f-6a41-4c88-aa25-971c9a277d60",
   "metadata": {},
   "source": [
    "title = \"Radionuclides migration in Opalinus clay\"\n",
    "date = \"2022-05-13\"\n",
    "author = \"Jaime Garibay-Rodriguez, Chaofan Chen, Haibing Shao, Lars Bilke, Olaf Kolditz, Vanessa Montoya, Renchao Lu\"\n",
    "notebook = \"Parabolic/ComponentTransport/ReactiveTransport/RadionuclidesMigration/RadionuclidesMigration.ipynb\"\n",
    "[menu]\n",
    "  [menu.benchmarks]\n",
    "    parent = \"Reactive Transport\"\n",
    "<!--eofm-->"
   ]
  },
  {
   "cell_type": "code",
   "execution_count": 25,
   "id": "78389cc7",
   "metadata": {},
   "outputs": [],
   "source": [
    "import os\n",
    "import ogs6py\n",
    "import vtuIO\n",
    "import numpy as np\n",
    "import matplotlib.pyplot as plt\n",
    "from matplotlib.pyplot import cm\n",
    "import time"
   ]
  },
  {
   "cell_type": "markdown",
   "id": "dbf8cf41-78e6-4f73-ae67-a3902335713c",
   "metadata": {},
   "source": [
    "# Radionuclides migration in Opalinus clay\n",
    "\n",
    "The diffusion of Cs-135 and U-238 through a 1-D column of fully water-saturated Opalinus clay for 1 million years is simulated using a mechanistic approach via the coupling of OGS to PHREEQC (OGS#iPHREEQC). Radioactive decay has not been considered due to the long half-lives (Nagra, 2002) of Cs-135 (2.3e6 years) and U-238 (4.5e9 years). The diffusion of radionuclides into the clay porewater is modeled with a Dirichlet boundary condition applied at the left side of the domain, whereas the right-side is modeled as a closed boundary (Neumann). The 1-D domain length is 40 m, which is sufficient to ensure that Cs does not reach the right-side boundary.\n",
    "\n",
    "The following Opalinus clay properties are used:\n",
    "\n",
    "| Parameter | Value | Unit |\n",
    "| :-: | :-: | :-: |\n",
    "| Porosity $\\phi$ | 0.15 | - |\n",
    "| Pore diffusion coefficient $\\mathrm{D_p}$ | 1e-10 | m$^2$/s |\n",
    "| Effective diffusion coefficient $\\mathrm{D_e}$ | 1.5-11 | m$^2$/s |\n",
    "| Pressure $P$ |1 | atm |\n",
    "| Temperature $T$ | 25 | C |\n",
    "\n",
    "The domain is discretized in 200 linear elements (avg. element size = 0.2 m) with a non-uniform mesh refinement at the inlet boundary (to account for the high concentration gradient produced due to the constant concentration). The minimum and maximum element sizes are 0.04 m and 0.35 m, respectively (element length multiplier = 1.00625). Mesh-independence has been verified by running the simulations with a mesh with 400 elements (0.1 m element size). The results did not show a significant difference. The temporal discretization follows the maximum time-step size given by the von Neumann stability critetion for diffusive transport:\n",
    "\n",
    "$$\n",
    "\\Delta t < \\frac{{\\Delta x}^2}{2 D_p},\n",
    "$$\n",
    "\n",
    "therefore, a uniform time-stepping scheme is adopted with $\\Delta t = \\text{2e8}~s~(\\approx 6.34~\\text{years})$. This means that the simulation needs a total of 157680 time-steps to estimate the migration of 1 million years. This causes that large CPU times are needed when using OGS#iPHREEQC.\n",
    "\n",
    "Finally, the total concentrations in Opalinus clay of the main species, including background concentrations of Cs and U, are as follows:\n",
    "\n",
    "| Species (mol/kgw) | Value |\n",
    "| :-: | :-: |\n",
    "| HCO$_3^-$ |  4.659 $\\times$ 10$^{-4}$ |\n",
    "| Ca$^{2+}$ |  2.651 $\\times$ 10$^{-2}$   |\n",
    "| Cl$^-$ |  3.058 $\\times$ 10$^{-1}$ |\n",
    "| K$^+$ |  1.631 $\\times$ 10$^{-3}$ |\n",
    "| Mg$^{2+}$ |  1.733 $\\times$ 10$^{-2}$ |\n",
    "| Na$^+$ |  2.447 $\\times$ 10$^{-1}$ |\n",
    "| SO$_4^{2-}$ |  1.417 $\\times$ 10$^{-2}$ |\n",
    "| Sr$^{2+}$ |  4.577 $\\times$ 10$^{-4}$ |\n",
    "| Cs$^+$ |  1.019 $\\times$ 10$^{-10}$ |\n",
    "| U$_\\text{total}$ |  2.549 $\\times$ 10$^{-9}$ |\n",
    "| pH | 7.6 |\n",
    "| pE | -2  |"
   ]
  },
  {
   "cell_type": "markdown",
   "id": "7f7a5291-982a-4f5d-9a89-f97afee32172",
   "metadata": {},
   "source": [
    "## Cs-135 migration\n",
    "\n",
    "A Cs concentration at the left boundary of 1.019e-7 mol/kgw is set constant throughout the simulation. The sorption model is taken from Águila et al., 2021. Cs-135 migration is simulated by using OGS#iPHREEQC via the `<surface>` keyword with the following parameters: \n",
    "\n",
    "| Site name | Description | Capacity (mol/kgw) |\n",
    "| :-: | :-: | :-: |\n",
    "| Su\\_ | Double layer planar sites | 1.425 |\n",
    "| Su\\_ii | Type II sites of intermediate strength | 1.38e-1 |\n",
    "| Su\\_fes | Frayed edge sites | 1.8e-3 |\n",
    "\n",
    "The corresponding reactions of the sorption model are added to the latest version (2020) of the PSI/Nagra thermodynamic database (`PSINagra2020v1-1_davies.dat`). \n",
    "\n",
    "In the `Cs.prj` file, the surface input under the `<chemical_system>` keyword is:\n",
    "```XML\n",
    "<chemical_system chemical_solver=\"Phreeqc\">\n",
    "    ...\n",
    "        <surface site_unit=\"mole\">\n",
    "            <site>\n",
    "                <name>Su_</name>\n",
    "            </site>\n",
    "            <site>\n",
    "                <name>Su_fes</name>\n",
    "            </site>\n",
    "            <site>\n",
    "                <name>Su_ii</name>\n",
    "            </site>\n",
    "        </surface>\n",
    "    ...\n",
    "```\n",
    "\n",
    "The amounts of each site are given through the `<media>` keyword as follows:\n",
    "```XML\n",
    "                <phase>\n",
    "                    <type>Solid</type>\n",
    "                    <components>\n",
    "                        <component>\n",
    "                            <name>Su_</name>\n",
    "                            <properties>\n",
    "                                <property>\n",
    "                                    <name>molality</name>\n",
    "                                    <type>Constant</type>\n",
    "                                    <value>1.4250e+00</value>\n",
    "                                </property>\n",
    "                            </properties>\n",
    "                        </component>\n",
    "                        <component>\n",
    "                            <name>Su_fes</name>\n",
    "                            <properties>\n",
    "                                <property>\n",
    "                                    <name>molality</name>\n",
    "                                    <type>Constant</type>\n",
    "                                    <value>1.8000e-03</value>\n",
    "                                </property>\n",
    "                            </properties>\n",
    "                        </component>\n",
    "                        <component>\n",
    "                            <name>Su_ii</name>\n",
    "                            <properties>\n",
    "                                <property>\n",
    "                                    <name>molality</name>\n",
    "                                    <type>Constant</type>\n",
    "                                    <value>1.3800e-01</value>\n",
    "                                </property>\n",
    "                            </properties>\n",
    "                        </component>\n",
    "                    </components>\n",
    "                </phase>\n",
    "```\n",
    "\n",
    "Where the site names should be an exact match in both `<media>` and `<chemical_system>` keywords. This means that it is possible to setup complex simulations comprised of multiple physical domains with distinct chemical systems (e.g., different sorption sites, diffusion, porosity) such as the multiple barriers in a nuclear waste repository. "
   ]
  },
  {
   "cell_type": "markdown",
   "id": "7e48aeb1-ed7d-4da7-8140-ccc3b547683c",
   "metadata": {},
   "source": [
    "### 1) Solve the numerical model\n",
    "\n",
    "The simulation takes approximately 23 hrs. to complete when t = 1e6 years. Therefore, only the first 50 time-steps are simulated in this notebook. To run the full simulation, the time loop parameters can be easily adapted."
   ]
  },
  {
   "cell_type": "code",
   "execution_count": 26,
   "id": "6cece0c2-41b5-468b-b4e3-7a982d5c6ef9",
   "metadata": {},
   "outputs": [
    {
     "name": "stdout",
     "output_type": "stream",
     "text": [
      ">>> OGS started execution ... <<<\n",
      ">>> OGS terminated execution  <<< Elapsed time:  22.19  s.\n"
     ]
    }
   ],
   "source": [
    "prj_name = \"Cs.prj\"\n",
    "\n",
    "t0 = time.time()\n",
    "print(\">>> OGS started execution ... <<<\")\n",
    "\n",
    "! ogs {prj_name} > outCs.txt\n",
    "\n",
    "tf = time.time()\n",
    "print(\">>> OGS terminated execution  <<< Elapsed time: \", round(tf - t0, 2), \" s.\")"
   ]
  },
  {
   "cell_type": "markdown",
   "id": "401f7eba-5d62-4490-964e-6ab92a45c141",
   "metadata": {},
   "source": [
    "### 2) Plot the results\n",
    "\n",
    "Results can be conveniently visualized with <a href=\"https://github.com/joergbuchwald/VTUinterface\">VTUinterface</a>. Note that the results of the full simulation are plotted (provided in the folder `./Cs_full_simulation`). The results of the first 50 time steps can be plotted by replacing `pvdfile` with the commented line below. "
   ]
  },
  {
   "cell_type": "code",
   "execution_count": 22,
   "id": "71077607-dfbe-436a-83cf-830f57147546",
   "metadata": {},
   "outputs": [
    {
     "data": {
      "image/png": "[encoded data removed]",
      "text/plain": [
       "<Figure size 432x288 with 1 Axes>"
      ]
     },
     "metadata": {
      "needs_background": "light"
     },
     "output_type": "display_data"
    }
   ],
   "source": [
    "length = 40\n",
    "xaxis = [(i, 0, 0) for i in np.linspace(start=0.0, stop=length, num=201)]\n",
    "x = np.array(xaxis)[:, 0]\n",
    "fieldname = \"Cs\"\n",
    "\n",
    "#Read simulation results\n",
    "pvdfile = vtuIO.PVDIO(\"./Cs_full_simulation/out.pvd\", dim=1)\n",
    "# pvdfile = vtuIO.PVDIO(\"Cs.pvd\", dim=1)\n",
    "\n",
    "color_map=iter(cm.rainbow(np.linspace(0,1,len(pvdfile.timesteps))))\n",
    "\n",
    "#Plot the results\n",
    "fig, ax = plt.subplots()\n",
    "\n",
    "for t, c in zip(pvdfile.timesteps, color_map):\n",
    "    y = pvdfile.read_set_data(t, fieldname, pointsetarray=xaxis)\n",
    "    ax.plot(x, y, color=c, marker='.', label=\"{:.0e} yr\".format(round(t/3600/24/365, 0)))\n",
    "\n",
    "ax.set_xlim(0,5)\n",
    "ax.set_title(\"Cs migration in Opalinus clay\")\n",
    "ax.set_ylabel(\"Cs concentration [mol/kgw]\")\n",
    "ax.set_xlabel(\"x [m]\")\n",
    "ax.set_yscale('log')\n",
    "ax.legend()\n",
    "plt.tight_layout()"
   ]
  },
  {
   "cell_type": "markdown",
   "id": "d924ff0d-fc27-4c83-91b3-1a4867743fe2",
   "metadata": {},
   "source": [
    "The results show that Cs-135 does not migrate for more than 3 m even after 1 million years."
   ]
  },
  {
   "cell_type": "markdown",
   "id": "36020d23-66d2-4d8d-9fa6-1c67e542a878",
   "metadata": {},
   "source": [
    "## U-238 migration\n",
    "\n",
    "Similarly, a U concentration at the left boundary of 1.060e-6 mol/kgw is applied to the domain. In this case, the sorption model is taken from Hennig et al., 2020. U-238 migration is simulated by using OGS#iPHREEQC via the `<surface>` keyword definition with the following parameters: \n",
    "\n",
    "| Site name | Description | Capacity (mol/kgw) |\n",
    "| :-: | :-: | :-: |\n",
    "| Ill\\_wOH | Illite weak site | 6.254e-1 |\n",
    "| Ill\\_sOH | Illite strong site | 1.384e-2 |\n",
    "| Kln\\_aOH | Kaolinite Aluminol site | 7.351e-2 |\n",
    "| Kln\\_siOH | Kaolinite Silanol site | 7.351e-2 |\n",
    "| Mll\\_wOH | Montmorillonite weak site | 1.137e-1 |\n",
    "| Mll\\_sOH | Montmorillonite strong site | 2.516e-3 |\n",
    "| ChlOH | Chlorite | 9.414e-3 |\n",
    "\n",
    "The Opalinus clay parameters remain the same as in the Cs case, as well as the space-time discretization. In the same way, the reactions of the sorption model are added to the themodynamic database `PSINagra2020v1-1_davies.dat`. "
   ]
  },
  {
   "cell_type": "markdown",
   "id": "0c110909-3e7b-4e66-94f2-61ee1a16eb5d",
   "metadata": {},
   "source": [
    "### 1) Solve the numerical model\n",
    "\n",
    "The model is solved for the first 50 time steps only to minimize the CPU time of this notebook. The time loop parameters in `U.prj` can be adapted accordingly to cover the full simulation time of 1 million years. "
   ]
  },
  {
   "cell_type": "code",
   "execution_count": 27,
   "id": "5337b8ee-0432-4a34-aaee-e97af466bab6",
   "metadata": {},
   "outputs": [
    {
     "name": "stdout",
     "output_type": "stream",
     "text": [
      ">>> OGS started execution ... <<<\n",
      ">>> OGS terminated execution  <<< Elapsed time:  37.19  s.\n"
     ]
    }
   ],
   "source": [
    "prj_name = \"U.prj\"\n",
    "\n",
    "t0 = time.time()\n",
    "print(\">>> OGS started execution ... <<<\")\n",
    "\n",
    "! ogs {prj_name} > outCs.txt\n",
    "\n",
    "tf = time.time()\n",
    "print(\">>> OGS terminated execution  <<< Elapsed time: \", round(tf - t0, 2), \" s.\")"
   ]
  },
  {
   "cell_type": "markdown",
   "id": "80c2d223-2540-4112-8063-061a091e7bab",
   "metadata": {},
   "source": [
    "### 2) Plot the results\n",
    "\n",
    "Again, the full simulation results are provided in `/U_full_simulation`. They are plotted to show the migration of U after 1 million years."
   ]
  },
  {
   "cell_type": "code",
   "execution_count": 28,
   "id": "8472539b-4514-48c4-8c0a-09a35f2c38ef",
   "metadata": {},
   "outputs": [
    {
     "data": {
      "image/png": "[encoded data removed]",
      "text/plain": [
       "<Figure size 432x288 with 1 Axes>"
      ]
     },
     "metadata": {
      "needs_background": "light"
     },
     "output_type": "display_data"
    }
   ],
   "source": [
    "length = 40\n",
    "xaxis = [(i, 0, 0) for i in np.linspace(start=0.0, stop=length, num=201)]\n",
    "x = np.array(xaxis)[:, 0]\n",
    "fieldname = \"U\"\n",
    "\n",
    "#Read simulation results\n",
    "pvdfile = vtuIO.PVDIO(\"./U_full_simulation/out.pvd\", dim=1)\n",
    "# pvdfile = vtuIO.PVDIO(\"Cs.pvd\", dim=1)\n",
    "\n",
    "color_map=iter(cm.rainbow(np.linspace(0,1,len(pvdfile.timesteps))))\n",
    "\n",
    "#Plot the results\n",
    "fig, ax = plt.subplots()\n",
    "\n",
    "for t, c in zip(pvdfile.timesteps, color_map):\n",
    "    y = pvdfile.read_set_data(t, fieldname, pointsetarray=xaxis)\n",
    "    ax.plot(x, y, color=c, marker=\".\", markevery=5, label=\"{:.0e} yr\".format(round(t/3600/24/365, 0)))\n",
    "\n",
    "ax.set_xlim(0,40)\n",
    "ax.set_title(\"U migration in Opalinus clay\")\n",
    "ax.set_ylabel(\"U concentration [mol/kgw]\")\n",
    "ax.set_xlabel(\"x [m]\")\n",
    "ax.set_yscale('log')\n",
    "ax.legend()\n",
    "plt.tight_layout()"
   ]
  },
  {
   "cell_type": "markdown",
   "id": "7926b866-5b51-433c-bffc-aa7f5b8977fb",
   "metadata": {},
   "source": [
    "In this case, it is clear that the migration of U-238 is much more pronounced than Cs-135. After 1 million years, U-238 shows a breakthrough to around 20 m. "
   ]
  },
  {
   "cell_type": "markdown",
   "id": "af6412e5",
   "metadata": {},
   "source": [
    "## References"
   ]
  },
  {
   "cell_type": "markdown",
   "id": "4bbd982b",
   "metadata": {},
   "source": [
    "Águila, J. F., Montoya, V., Samper, J., Montenegro, L., Kosakowski, G., Krejci, P., & Pfingsten, W. (2021). Modeling cesium migration through Opalinus clay: a benchmark for single-and multi-species sorption-diffusion models. Computational Geosciences, 25(4), 1405-1436.\n",
    "\n",
    "Garibay-Rodriguez, J., Chen, C., Shao, H., Bilke, L., Kolditz, O., Montoya, V., & Lu, R. (2022). Computational framework for radionuclide migration assessment in clay rocks. Frontiers in Nuclear Engineering (under review).\n",
    "\n",
    "Hennig, T., Stockmann, M., & Kühn, M. (2020). Simulation of diffusive uranium transport and sorption processes in the Opalinus Clay. Applied Geochemistry, 123, 104777.\n",
    "\n",
    "Hummel W. Thoenen T. (2021): The PSI Chemical Thermodynamic Database 2020, Nagra NTB 21-03.\n",
    "\n",
    "<a href=\"https://www.nagra.ch/de/technical-report-02-06\">Nagra, 2002.</a> Project Opalinus Clay: Models, Codes and Data for Safety Assessment. Technical Report NTB 02–06. Nagra, Switzerland."
   ]
  },
  {
   "cell_type": "markdown",
   "id": "8f3a39bb",
   "metadata": {},
   "source": [
    "**Credits:**"
   ]
  },
  {
   "cell_type": "markdown",
   "id": "2af839e6",
   "metadata": {},
   "source": [
    "Jaime Garibay-Rodriguez, Chaofan Chen, Haibing Shao, Lars Bilke, Olaf Kolditz,\n",
    "Vanessa Montoya, Renchao Lu"
   ]
  }
 ],
 "metadata": {
  "kernelspec": {
   "display_name": "Python 3 (ipykernel)",
   "language": "python",
   "name": "python3"
  },
  "language_info": {
   "codemirror_mode": {
    "name": "ipython",
    "version": 3
   },
   "file_extension": ".py",
   "mimetype": "text/x-python",
   "name": "python",
   "nbconvert_exporter": "python",
   "pygments_lexer": "ipython3",
   "version": "3.10.4"
  }
 },
 "nbformat": 4,
 "nbformat_minor": 5
}
