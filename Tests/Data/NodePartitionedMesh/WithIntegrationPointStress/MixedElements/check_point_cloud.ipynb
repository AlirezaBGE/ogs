{
 "cells": [
  {
   "cell_type": "markdown",
   "id": "5867da3a-7df9-4467-a43b-1f63151d45a9",
   "metadata": {},
   "source": [
    "This notebook checks that the reference results for the `ipDataToPointCloud` tool are correct."
   ]
  },
  {
   "cell_type": "code",
   "execution_count": 1,
   "id": "47ccfbbb-5313-4bb7-bb5c-de1c5a438183",
   "metadata": {},
   "outputs": [],
   "source": [
    "import pyvista as pv\n",
    "import numpy as np"
   ]
  },
  {
   "cell_type": "code",
   "execution_count": 2,
   "id": "cd7d62a9-c94e-4ce1-b48e-b1e3c9a0042d",
   "metadata": {},
   "outputs": [],
   "source": [
    "def check_ip_data(mesh, point_cloud, field_name):\n",
    "    # kept name \"sigma_ip\", although it might also be \"epsilon_ip\" or something completely different\n",
    "    sigma_ip_field = mesh.field_data[field_name]\n",
    "    sigma_ip_point = point_cloud.point_data[field_name]\n",
    "\n",
    "    num_ips = sigma_ip_field.shape[0]\n",
    "\n",
    "    # check that each IP corresponds to a point in the point cloud\n",
    "    assert num_ips == point_cloud.n_points\n",
    "\n",
    "    # check that values of sigma_ip are equal\n",
    "    assert np.allclose(sigma_ip_field, sigma_ip_point, atol=1e-15, rtol=0) \n",
    "\n",
    "def check_all_points_enclosed_by_mesh_surface_3D(mesh, point_cloud):\n",
    "    surface = mesh.extract_surface()\n",
    "    points_in_mesh = point_cloud.select_enclosed_points(surface)\n",
    "\n",
    "    # check that each point in the point cloud is contained in the \"original\" mesh\n",
    "    assert points_in_mesh.n_points == point_cloud.n_points\n",
    "    \n",
    "def check_all_points_inside_bbox_2D(mesh, point_cloud):\n",
    "    xmin, xmax, ymin, ymax, zmin, zmax = mesh.bounds\n",
    "\n",
    "    assert zmin == 0.0 and zmax == 0.0  # make sure we are in 2D\n",
    "    \n",
    "    assert np.all(point_cloud.points[:,0] > xmin)\n",
    "    assert np.all(point_cloud.points[:,0] < xmax)\n",
    "    assert np.all(point_cloud.points[:,1] > ymin)\n",
    "    assert np.all(point_cloud.points[:,1] < ymax)"
   ]
  },
  {
   "cell_type": "markdown",
   "id": "a82f0c76-5cab-4f7e-8d2d-07d676d6ce8b",
   "metadata": {},
   "source": [
    "# Mixed element test"
   ]
  },
  {
   "cell_type": "code",
   "execution_count": 3,
   "id": "33ca2a9b-d38e-4c2f-a1c3-106ffceb04b9",
   "metadata": {},
   "outputs": [],
   "source": [
    "mesh = pv.read(\"mesh_with_3D_different_elements_sigma_ip.vtu\")\n",
    "point_cloud = pv.read(\"mesh_with_3D_different_elements_sigma_ip_point_cloud.vtu\")\n",
    "\n",
    "check_ip_data(mesh, point_cloud, \"sigma_ip\")\n",
    "check_all_points_enclosed_by_mesh_surface_3D(mesh, point_cloud)"
   ]
  },
  {
   "cell_type": "markdown",
   "id": "1a4551f6-5988-410d-83bf-2e8cef033dac",
   "metadata": {},
   "source": [
    "# Tri and quad mesh test"
   ]
  },
  {
   "cell_type": "code",
   "execution_count": 4,
   "id": "bc31ddb1-79c0-486f-bf36-717ffabcd205",
   "metadata": {},
   "outputs": [],
   "source": [
    "mesh = pv.read(\"TriQuad/quad_tri_THM_t_864000_000000.vtu\")\n",
    "point_cloud = pv.read(\"TriQuad/quad_tri_THM_t_864000_000000_point_cloud.vtu\")\n",
    "\n",
    "check_ip_data(mesh, point_cloud, \"sigma_ip\")\n",
    "check_ip_data(mesh, point_cloud, \"epsilon_ip\")\n",
    "\n",
    "check_all_points_inside_bbox_2D(mesh, point_cloud)"
   ]
  }
 ],
 "metadata": {
  "kernelspec": {
   "display_name": "Python 3 (ipykernel)",
   "language": "python",
   "name": "python3"
  },
  "language_info": {
   "codemirror_mode": {
    "name": "ipython",
    "version": 3
   },
   "file_extension": ".py",
   "mimetype": "text/x-python",
   "name": "python",
   "nbconvert_exporter": "python",
   "pygments_lexer": "ipython3",
   "version": "3.10.8"
  }
 },
 "nbformat": 4,
 "nbformat_minor": 5
}
